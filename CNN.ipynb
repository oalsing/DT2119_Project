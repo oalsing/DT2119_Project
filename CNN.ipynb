{
 "cells": [
  {
   "cell_type": "code",
   "execution_count": 1,
   "metadata": {
    "collapsed": true,
    "deletable": true,
    "editable": true
   },
   "outputs": [],
   "source": [
    "%matplotlib inline"
   ]
  },
  {
   "cell_type": "code",
   "execution_count": 2,
   "metadata": {
    "collapsed": false,
    "deletable": true,
    "editable": true
   },
   "outputs": [
    {
     "name": "stderr",
     "output_type": "stream",
     "text": [
      "Using TensorFlow backend.\n"
     ]
    }
   ],
   "source": [
    "import sys\n",
    "import numpy as np\n",
    "import os\n",
    "import matplotlib.pyplot as plt\n",
    "\n",
    "\n",
    "from keras.utils import np_utils\n",
    "from keras.models import Sequential\n",
    "from keras.layers import Dense, Dropout, Activation, Conv2D, Convolution2D, MaxPooling2D, Flatten\n",
    "from keras.optimizers import RMSprop"
   ]
  },
  {
   "cell_type": "code",
   "execution_count": 3,
   "metadata": {
    "collapsed": true,
    "deletable": true,
    "editable": true
   },
   "outputs": [],
   "source": [
    "use_pretrained_model = False\n",
    "pretrained_model_name = \"\"\n",
    "context_frame_size = 19"
   ]
  },
  {
   "cell_type": "code",
   "execution_count": 4,
   "metadata": {
    "collapsed": false,
    "deletable": true,
    "editable": true
   },
   "outputs": [
    {
     "name": "stdout",
     "output_type": "stream",
     "text": [
      "Shape of training, validation and test data and corresponding labels\n",
      "(19, 3, 13, 1359661) (1359661,)\n",
      "(19, 3, 13, 147731) (147731,)\n",
      "(19, 3, 13, 1527014) (1527014,)\n"
     ]
    }
   ],
   "source": [
    "train_data = np.load('workdir/train_tr_MFCC_0_D_A_norm_data_context_{}.npy'.format(str(context_frame_size)))\n",
    "train_labels = np.load('workdir/train_tr_MFCC_0_D_A_norm_labels_context_{}.npy'.format(str(context_frame_size)))\n",
    "val_data = np.load('workdir/train_va_MFCC_0_D_A_norm_data_context_{}.npy'.format(str(context_frame_size)))\n",
    "val_labels = np.load('workdir/train_va_MFCC_0_D_A_norm_labels_context_{}.npy'.format(str(context_frame_size)))\n",
    "test_data = np.load('workdir/test_MFCC_0_D_A_norm_data_context_{}.npy'.format(str(context_frame_size)))\n",
    "test_labels = np.load('workdir/test_MFCC_0_D_A_norm_labels_context_{}.npy'.format(str(context_frame_size)))\n",
    "\n",
    "print(\"Shape of training, validation and test data and corresponding labels\")\n",
    "for data, labels in [(train_data, train_labels), (val_data, val_labels), (test_data, test_labels)]:\n",
    "    print(data.shape, labels.shape)"
   ]
  },
  {
   "cell_type": "code",
   "execution_count": 5,
   "metadata": {
    "collapsed": false,
    "deletable": true,
    "editable": true
   },
   "outputs": [
    {
     "name": "stdout",
     "output_type": "stream",
     "text": [
      "[  0.   1.   2.   3.   4.   5.   6.   7.   8.   9.  10.  11.  12.  13.  14.\n",
      "  15.  16.  17.  18.  19.  20.  21.  22.  23.  24.  25.  26.  27.  28.  29.\n",
      "  30.  31.  32.  33.  34.  35.  36.  37.  38.  39.  40.  41.  42.  43.  44.\n",
      "  45.  46.  47.  48.  49.  50.  51.  52.  53.  54.  55.  56.  57.  58.  59.\n",
      "  60.  61.  62.  63.]\n",
      "64\n",
      "(1359661, 64)\n",
      "42.0\n",
      "[ 0.  0.  0.  0.  0.  0.  0.  0.  0.  0.  0.  0.  0.  0.  0.  0.  0.  0.\n",
      "  0.  0.  0.  0.  0.  0.  0.  0.  0.  0.  0.  0.  0.  0.  0.  0.  0.  0.\n",
      "  0.  0.  0.  0.  0.  0.  1.  0.  0.  0.  0.  0.  0.  0.  0.  0.  0.  0.\n",
      "  0.  0.  0.  0.  0.  0.  0.  0.  0.  0.]\n"
     ]
    }
   ],
   "source": [
    "print(np.unique(train_labels))\n",
    "print(len(np.unique(train_labels)))\n",
    "nb_classes = len(np.unique(train_labels))\n",
    "y_train_asd = np.array(train_labels) \n",
    "#y_test = np.array(y_test)\n",
    "Y_train_asd = np_utils.to_categorical(y_train_asd, nb_classes)\n",
    "#Y_test = np_utils.to_categorical(y_test, nb_classes)\n",
    "print(Y_train_asd.shape)\n",
    "print(train_labels[0])\n",
    "print(Y_train_asd[0])"
   ]
  },
  {
   "cell_type": "markdown",
   "metadata": {
    "deletable": true,
    "editable": true
   },
   "source": [
    "#### Change order of columns"
   ]
  },
  {
   "cell_type": "code",
   "execution_count": 6,
   "metadata": {
    "collapsed": false,
    "deletable": true,
    "editable": true
   },
   "outputs": [
    {
     "name": "stdout",
     "output_type": "stream",
     "text": [
      "(19, 3, 13, 1359661)\n",
      "Shape of re-ordered training, validation and test data and corresponding labels\n",
      "(1359661, 19, 13, 3) (1359661, 64)\n",
      "(147731, 19, 13, 3) (147731, 64)\n",
      "(1527014, 19, 13, 3) (1527014, 64)\n"
     ]
    }
   ],
   "source": [
    "print(train_data.shape)\n",
    "X_train = np.transpose(train_data, (3, 0, 2, 1))\n",
    "Y_train_num = train_labels\n",
    "X_val = np.transpose(val_data, (3, 0, 2, 1))\n",
    "Y_val_num = val_labels\n",
    "X_test = np.transpose(test_data, (3, 0, 2, 1))\n",
    "Y_test_num = test_labels\n",
    "\n",
    "nb_classes = 64 #number of phonemes\n",
    "\n",
    "Y_train = np_utils.to_categorical(Y_train_num, nb_classes)\n",
    "Y_val = np_utils.to_categorical(Y_val_num, nb_classes)\n",
    "Y_test = np_utils.to_categorical(Y_test_num, nb_classes)\n",
    "\n",
    "\n",
    "print(\"Shape of re-ordered training, validation and test data and corresponding labels\")\n",
    "for data, labels in [(X_train, Y_train), (X_val, Y_val), (X_test, Y_test)]:\n",
    "    print(data.shape, labels.shape)"
   ]
  },
  {
   "cell_type": "code",
   "execution_count": 7,
   "metadata": {
    "collapsed": false,
    "deletable": true,
    "editable": true
   },
   "outputs": [
    {
     "name": "stdout",
     "output_type": "stream",
     "text": [
      "Train on 1359661 samples, validate on 147731 samples\n",
      "Epoch 1/25\n",
      "460s - loss: 0.9255 - acc: 0.7065 - val_loss: 0.6160 - val_acc: 0.7890\n",
      "Epoch 2/25\n",
      "117s - loss: 0.6031 - acc: 0.7916 - val_loss: 0.5543 - val_acc: 0.8076\n",
      "Epoch 3/25\n",
      "118s - loss: 0.5565 - acc: 0.8052 - val_loss: 0.5312 - val_acc: 0.8133\n",
      "Epoch 4/25\n",
      "117s - loss: 0.5345 - acc: 0.8120 - val_loss: 0.5192 - val_acc: 0.8176\n",
      "Epoch 5/25\n",
      "117s - loss: 0.5216 - acc: 0.8154 - val_loss: 0.5095 - val_acc: 0.8214\n",
      "Epoch 6/25\n",
      "117s - loss: 0.5134 - acc: 0.8181 - val_loss: 0.4990 - val_acc: 0.8244\n",
      "Epoch 7/25\n",
      "117s - loss: 0.5065 - acc: 0.8204 - val_loss: 0.4971 - val_acc: 0.8251\n",
      "Epoch 8/25\n",
      "117s - loss: 0.5024 - acc: 0.8216 - val_loss: 0.4926 - val_acc: 0.8259\n",
      "Epoch 9/25\n",
      "117s - loss: 0.4976 - acc: 0.8229 - val_loss: 0.4928 - val_acc: 0.8256\n",
      "Epoch 10/25\n",
      "117s - loss: 0.4941 - acc: 0.8245 - val_loss: 0.4880 - val_acc: 0.8278\n",
      "Epoch 11/25\n",
      "117s - loss: 0.4914 - acc: 0.8254 - val_loss: 0.4908 - val_acc: 0.8290\n",
      "Epoch 12/25\n",
      "116s - loss: 0.4898 - acc: 0.8258 - val_loss: 0.4854 - val_acc: 0.8297\n",
      "Epoch 13/25\n",
      "116s - loss: 0.4875 - acc: 0.8263 - val_loss: 0.4832 - val_acc: 0.8294\n",
      "Epoch 14/25\n",
      "117s - loss: 0.4860 - acc: 0.8271 - val_loss: 0.4889 - val_acc: 0.8297\n",
      "Epoch 15/25\n",
      "117s - loss: 0.4850 - acc: 0.8275 - val_loss: 0.4828 - val_acc: 0.8307\n",
      "Epoch 16/25\n",
      "116s - loss: 0.4837 - acc: 0.8281 - val_loss: 0.4810 - val_acc: 0.8314\n",
      "Epoch 17/25\n",
      "117s - loss: 0.4825 - acc: 0.8284 - val_loss: 0.4812 - val_acc: 0.8308\n",
      "Epoch 18/25\n",
      "116s - loss: 0.4825 - acc: 0.8283 - val_loss: 0.4942 - val_acc: 0.8302\n",
      "Epoch 19/25\n",
      "116s - loss: 0.4818 - acc: 0.8286 - val_loss: 0.4858 - val_acc: 0.8299\n",
      "Epoch 20/25\n",
      "116s - loss: 0.4813 - acc: 0.8290 - val_loss: 0.4812 - val_acc: 0.8309\n",
      "Epoch 21/25\n",
      "116s - loss: 0.4807 - acc: 0.8291 - val_loss: 0.4895 - val_acc: 0.8307\n",
      "Epoch 22/25\n",
      "116s - loss: 0.4807 - acc: 0.8291 - val_loss: 0.4816 - val_acc: 0.8302\n",
      "Epoch 23/25\n",
      "116s - loss: 0.4804 - acc: 0.8294 - val_loss: 0.4821 - val_acc: 0.8330\n",
      "Epoch 24/25\n",
      "116s - loss: 0.4804 - acc: 0.8289 - val_loss: 0.4857 - val_acc: 0.8290\n",
      "Epoch 25/25\n",
      "117s - loss: 0.4795 - acc: 0.8295 - val_loss: 0.4938 - val_acc: 0.8299\n",
      "[0.54417320371220324, 0.81524923805546634]\n",
      "Error rate:0.18475076194453366\n"
     ]
    }
   ],
   "source": [
    "if not use_pretrained_model:\n",
    "    model = Sequential()\n",
    "    model.add(Convolution2D(32, (3, 3), padding='same',\n",
    "                            input_shape=(context_frame_size, 13, 3), activation='relu'))\n",
    "    #model.add(Convolution2D(32, (3, 3), activation='relu'))\n",
    "    model.add(MaxPooling2D(pool_size=(2, 2), padding='same'))\n",
    "    model.add(Convolution2D(64, (3, 3), padding='same', activation='relu'))\n",
    "#    model.add(Convolution2D(64, (3, 3), activation='relu'))\n",
    "    model.add(MaxPooling2D(pool_size=(2, 2)))\n",
    "    model.add(Dropout(0.1))\n",
    "    #model.add(Convolution2D(32, (3, 3), activation='relu'))\n",
    "    #model.add(MaxPooling2D(pool_size=(2, 2)))\n",
    "    #model.add(Dropout(0.1))\n",
    "\n",
    "    model.add(Flatten())\n",
    "    #model.add(Dense(28))\n",
    "    #model.add(Activation('relu'))\n",
    "    model.add(Dense(nb_classes))\n",
    "    model.add(Activation('softmax'))\n",
    "\n",
    "    model.compile(loss='categorical_crossentropy', optimizer=RMSprop(lr=0.0001, rho=0.9, epsilon=1e-08, decay=0.0), metrics=['accuracy'])\n",
    "    history = model.fit(X_train, Y_train, batch_size=64, epochs=25, verbose=2, validation_data=(X_val, Y_val))\n",
    "    loss_and_metrics = model.evaluate(X_test, Y_test, verbose=0)\n",
    "    print(loss_and_metrics)\n",
    "    [print(\"Error rate:{}\".format(1-loss_and_metrics[1]))]\n",
    "    \n",
    "else:\n",
    "    from keras.models import load_model\n",
    "    model = load_model('pretrained_model_name')"
   ]
  },
  {
   "cell_type": "code",
   "execution_count": 8,
   "metadata": {
    "collapsed": false,
    "deletable": true,
    "editable": true
   },
   "outputs": [
    {
     "name": "stdout",
     "output_type": "stream",
     "text": [
      "dict_keys(['val_acc', 'val_loss', 'loss', 'acc'])\n"
     ]
    },
    {
     "data": {
      "image/png": "[encoded data removed]",
      "text/plain": [
       "<matplotlib.figure.Figure at 0x7f38d0460630>"
      ]
     },
     "metadata": {},
     "output_type": "display_data"
    },
    {
     "data": {
      "image/png": "[encoded data removed]",
      "text/plain": [
       "<matplotlib.figure.Figure at 0x7f3446edfd68>"
      ]
     },
     "metadata": {},
     "output_type": "display_data"
    }
   ],
   "source": [
    "# list all data in history\n",
    "print(history.history.keys())\n",
    "# summarize history for accuracy\n",
    "plt.plot(history.history['acc'])\n",
    "plt.plot(history.history['val_acc'])\n",
    "plt.title('Model Accuracy')\n",
    "plt.ylabel('Accuracy')\n",
    "plt.xlabel('Epoch')\n",
    "plt.legend(['Training', 'Validation'], loc='upper left')\n",
    "plt.show()\n",
    "# summarize history for loss\n",
    "plt.plot(history.history['loss'])\n",
    "plt.plot(history.history['val_loss'])\n",
    "plt.title('Model Loss')\n",
    "plt.ylabel('Loss')\n",
    "plt.xlabel('Epoch')\n",
    "plt.legend(['Training', 'Validation'], loc='upper right')\n",
    "plt.show()"
   ]
  },
  {
   "cell_type": "code",
   "execution_count": 10,
   "metadata": {
    "collapsed": true,
    "deletable": true,
    "editable": true
   },
   "outputs": [],
   "source": [
    "model.save('models/context_19_conv32_3_3_padding_pool2_2_2_conv64_3_3_padding_pool_2_2dropout_0.1_64dense_80.81.5acc.h5')"
   ]
  },
  {
   "cell_type": "code",
   "execution_count": null,
   "metadata": {
    "collapsed": true,
    "deletable": true,
    "editable": true
   },
   "outputs": [],
   "source": []
  }
 ],
 "metadata": {
  "kernelspec": {
   "display_name": "Python 3",
   "language": "python",
   "name": "python3"
  },
  "language_info": {
   "codemirror_mode": {
    "name": "ipython",
    "version": 3
   },
   "file_extension": ".py",
   "mimetype": "text/x-python",
   "name": "python",
   "nbconvert_exporter": "python",
   "pygments_lexer": "ipython3",
   "version": "3.5.1+"
  }
 },
 "nbformat": 4,
 "nbformat_minor": 2
}
