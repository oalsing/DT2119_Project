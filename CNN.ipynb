{
 "cells": [
  {
   "cell_type": "code",
   "execution_count": 1,
   "metadata": {
    "collapsed": true,
    "deletable": true,
    "editable": true
   },
   "outputs": [],
   "source": [
    "%matplotlib inline"
   ]
  },
  {
   "cell_type": "code",
   "execution_count": 2,
   "metadata": {
    "collapsed": false,
    "deletable": true,
    "editable": true
   },
   "outputs": [
    {
     "name": "stderr",
     "output_type": "stream",
     "text": [
      "Using TensorFlow backend.\n"
     ]
    }
   ],
   "source": [
    "import sys\n",
    "import numpy as np\n",
    "import os\n",
    "import matplotlib.pyplot as plt\n",
    "\n",
    "\n",
    "from keras.utils import np_utils\n",
    "from keras.models import Sequential\n",
    "from keras.layers import Dense, Dropout, Activation, Conv2D, Convolution2D, MaxPooling2D, Flatten\n",
    "from keras.optimizers import RMSprop"
   ]
  },
  {
   "cell_type": "code",
   "execution_count": 3,
   "metadata": {
    "collapsed": true,
    "deletable": true,
    "editable": true
   },
   "outputs": [],
   "source": [
    "use_pretrained_model = False\n",
    "pretrained_model_name = \"\"\n",
    "context_frame_size = 19"
   ]
  },
  {
   "cell_type": "code",
   "execution_count": 4,
   "metadata": {
    "collapsed": false,
    "deletable": true,
    "editable": true
   },
   "outputs": [
    {
     "name": "stdout",
     "output_type": "stream",
     "text": [
      "Shape of training, validation and test data and corresponding labels\n",
      "(19, 3, 13, 1359661) (1359661,)\n",
      "(19, 3, 13, 147731) (147731,)\n",
      "(19, 3, 13, 1527014) (1527014,)\n"
     ]
    }
   ],
   "source": [
    "train_data = np.load('workdir/train_tr_MFCC_0_D_A_norm_data_context_{}.npy'.format(str(context_frame_size)))\n",
    "train_labels = np.load('workdir/train_tr_MFCC_0_D_A_norm_labels_context_{}.npy'.format(str(context_frame_size)))\n",
    "val_data = np.load('workdir/train_va_MFCC_0_D_A_norm_data_context_{}.npy'.format(str(context_frame_size)))\n",
    "val_labels = np.load('workdir/train_va_MFCC_0_D_A_norm_labels_context_{}.npy'.format(str(context_frame_size)))\n",
    "test_data = np.load('workdir/test_MFCC_0_D_A_norm_data_context_{}.npy'.format(str(context_frame_size)))\n",
    "test_labels = np.load('workdir/test_MFCC_0_D_A_norm_labels_context_{}.npy'.format(str(context_frame_size)))\n",
    "\n",
    "print(\"Shape of training, validation and test data and corresponding labels\")\n",
    "for data, labels in [(train_data, train_labels), (val_data, val_labels), (test_data, test_labels)]:\n",
    "    print(data.shape, labels.shape)"
   ]
  },
  {
   "cell_type": "code",
   "execution_count": 5,
   "metadata": {
    "collapsed": false,
    "deletable": true,
    "editable": true
   },
   "outputs": [
    {
     "name": "stdout",
     "output_type": "stream",
     "text": [
      "[  0.   1.   2.   3.   4.   5.   6.   7.   8.   9.  10.  11.  12.  13.  14.\n",
      "  15.  16.  17.  18.  19.  20.  21.  22.  23.  24.  25.  26.  27.  28.  29.\n",
      "  30.  31.  32.  33.  34.  35.  36.  37.  38.  39.  40.  41.  42.  43.  44.\n",
      "  45.  46.  47.  48.  49.  50.  51.  52.  53.  54.  55.  56.  57.  58.  59.\n",
      "  60.  61.  62.  63.]\n",
      "64\n",
      "(1359661, 64)\n",
      "42.0\n",
      "[ 0.  0.  0.  0.  0.  0.  0.  0.  0.  0.  0.  0.  0.  0.  0.  0.  0.  0.\n",
      "  0.  0.  0.  0.  0.  0.  0.  0.  0.  0.  0.  0.  0.  0.  0.  0.  0.  0.\n",
      "  0.  0.  0.  0.  0.  0.  1.  0.  0.  0.  0.  0.  0.  0.  0.  0.  0.  0.\n",
      "  0.  0.  0.  0.  0.  0.  0.  0.  0.  0.]\n"
     ]
    }
   ],
   "source": [
    "print(np.unique(train_labels))\n",
    "print(len(np.unique(train_labels)))\n",
    "nb_classes = len(np.unique(train_labels))\n",
    "y_train_asd = np.array(train_labels) \n",
    "#y_test = np.array(y_test)\n",
    "Y_train_asd = np_utils.to_categorical(y_train_asd, nb_classes)\n",
    "#Y_test = np_utils.to_categorical(y_test, nb_classes)\n",
    "print(Y_train_asd.shape)\n",
    "print(train_labels[0])\n",
    "print(Y_train_asd[0])"
   ]
  },
  {
   "cell_type": "markdown",
   "metadata": {
    "deletable": true,
    "editable": true
   },
   "source": [
    "#### Change order of columns"
   ]
  },
  {
   "cell_type": "code",
   "execution_count": 6,
   "metadata": {
    "collapsed": false,
    "deletable": true,
    "editable": true
   },
   "outputs": [
    {
     "name": "stdout",
     "output_type": "stream",
     "text": [
      "(19, 3, 13, 1359661)\n",
      "Shape of re-ordered training, validation and test data and corresponding labels\n",
      "(1359661, 19, 13, 3) (1359661, 64)\n",
      "(147731, 19, 13, 3) (147731, 64)\n",
      "(1527014, 19, 13, 3) (1527014, 64)\n"
     ]
    }
   ],
   "source": [
    "print(train_data.shape)\n",
    "X_train = np.transpose(train_data, (3, 0, 2, 1))\n",
    "Y_train_num = train_labels\n",
    "X_val = np.transpose(val_data, (3, 0, 2, 1))\n",
    "Y_val_num = val_labels\n",
    "X_test = np.transpose(test_data, (3, 0, 2, 1))\n",
    "Y_test_num = test_labels\n",
    "\n",
    "nb_classes = 64 #number of phonemes\n",
    "\n",
    "Y_train = np_utils.to_categorical(Y_train_num, nb_classes)\n",
    "Y_val = np_utils.to_categorical(Y_val_num, nb_classes)\n",
    "Y_test = np_utils.to_categorical(Y_test_num, nb_classes)\n",
    "\n",
    "\n",
    "print(\"Shape of re-ordered training, validation and test data and corresponding labels\")\n",
    "for data, labels in [(X_train, Y_train), (X_val, Y_val), (X_test, Y_test)]:\n",
    "    print(data.shape, labels.shape)"
   ]
  },
  {
   "cell_type": "code",
   "execution_count": 7,
   "metadata": {
    "collapsed": false,
    "deletable": true,
    "editable": true
   },
   "outputs": [
    {
     "name": "stdout",
     "output_type": "stream",
     "text": [
      "Train on 1359661 samples, validate on 147731 samples\n",
      "Epoch 1/100\n",
      "434s - loss: 0.9238 - acc: 0.7067 - val_loss: 0.6170 - val_acc: 0.7896\n",
      "Epoch 2/100\n",
      "114s - loss: 0.6060 - acc: 0.7908 - val_loss: 0.5560 - val_acc: 0.8058\n",
      "Epoch 3/100\n",
      "114s - loss: 0.5595 - acc: 0.8047 - val_loss: 0.5252 - val_acc: 0.8151\n",
      "Epoch 4/100\n",
      "114s - loss: 0.5357 - acc: 0.8118 - val_loss: 0.5170 - val_acc: 0.8183\n",
      "Epoch 5/100\n",
      "114s - loss: 0.5217 - acc: 0.8162 - val_loss: 0.5013 - val_acc: 0.8236\n",
      "Epoch 6/100\n",
      "114s - loss: 0.5122 - acc: 0.8187 - val_loss: 0.4997 - val_acc: 0.8224\n",
      "Epoch 7/100\n",
      "113s - loss: 0.5059 - acc: 0.8208 - val_loss: 0.4960 - val_acc: 0.8253\n",
      "Epoch 8/100\n",
      "114s - loss: 0.5011 - acc: 0.8225 - val_loss: 0.4921 - val_acc: 0.8272\n",
      "Epoch 9/100\n",
      "114s - loss: 0.4976 - acc: 0.8238 - val_loss: 0.4859 - val_acc: 0.8281\n",
      "Epoch 10/100\n",
      "114s - loss: 0.4949 - acc: 0.8244 - val_loss: 0.4832 - val_acc: 0.8293\n",
      "Epoch 11/100\n",
      "114s - loss: 0.4922 - acc: 0.8251 - val_loss: 0.4875 - val_acc: 0.8283\n",
      "Epoch 12/100\n",
      "114s - loss: 0.4906 - acc: 0.8260 - val_loss: 0.4854 - val_acc: 0.8286\n",
      "Epoch 13/100\n",
      "114s - loss: 0.4887 - acc: 0.8261 - val_loss: 0.4828 - val_acc: 0.8294\n",
      "Epoch 14/100\n",
      "113s - loss: 0.4877 - acc: 0.8265 - val_loss: 0.4848 - val_acc: 0.8303\n",
      "Epoch 15/100\n",
      "114s - loss: 0.4866 - acc: 0.8271 - val_loss: 0.4816 - val_acc: 0.8294\n",
      "Epoch 16/100\n",
      "114s - loss: 0.4862 - acc: 0.8270 - val_loss: 0.4913 - val_acc: 0.8301\n",
      "Epoch 17/100\n",
      "114s - loss: 0.4847 - acc: 0.8275 - val_loss: 0.4851 - val_acc: 0.8282\n",
      "Epoch 18/100\n",
      "113s - loss: 0.4842 - acc: 0.8273 - val_loss: 0.4803 - val_acc: 0.8308\n",
      "Epoch 19/100\n",
      "114s - loss: 0.4837 - acc: 0.8278 - val_loss: 0.4812 - val_acc: 0.8304\n",
      "Epoch 20/100\n",
      "114s - loss: 0.4831 - acc: 0.8280 - val_loss: 0.4862 - val_acc: 0.8294\n",
      "Epoch 21/100\n",
      "114s - loss: 0.4830 - acc: 0.8280 - val_loss: 0.4799 - val_acc: 0.8299\n",
      "Epoch 22/100\n",
      "114s - loss: 0.4825 - acc: 0.8282 - val_loss: 0.4801 - val_acc: 0.8311\n",
      "Epoch 23/100\n",
      "114s - loss: 0.4825 - acc: 0.8282 - val_loss: 0.4833 - val_acc: 0.8288\n",
      "Epoch 24/100\n",
      "114s - loss: 0.4825 - acc: 0.8284 - val_loss: 0.4841 - val_acc: 0.8277\n",
      "Epoch 25/100\n",
      "114s - loss: 0.4825 - acc: 0.8279 - val_loss: 0.4814 - val_acc: 0.8308\n",
      "Epoch 26/100\n",
      "114s - loss: 0.4823 - acc: 0.8284 - val_loss: 0.4876 - val_acc: 0.8296\n",
      "Epoch 27/100\n",
      "114s - loss: 0.4817 - acc: 0.8281 - val_loss: 0.4819 - val_acc: 0.8299\n",
      "Epoch 28/100\n",
      "114s - loss: 0.4828 - acc: 0.8284 - val_loss: 0.4854 - val_acc: 0.8299\n",
      "Epoch 29/100\n",
      "114s - loss: 0.4825 - acc: 0.8282 - val_loss: 0.4784 - val_acc: 0.8307\n",
      "Epoch 30/100\n",
      "114s - loss: 0.4828 - acc: 0.8284 - val_loss: 0.4905 - val_acc: 0.8255\n",
      "Epoch 31/100\n",
      "114s - loss: 0.4832 - acc: 0.8279 - val_loss: 0.4821 - val_acc: 0.8300\n",
      "Epoch 32/100\n",
      "114s - loss: 0.4832 - acc: 0.8280 - val_loss: 0.4876 - val_acc: 0.8279\n",
      "Epoch 33/100\n",
      "114s - loss: 0.4837 - acc: 0.8279 - val_loss: 0.4924 - val_acc: 0.8247\n",
      "Epoch 34/100\n",
      "114s - loss: 0.4843 - acc: 0.8274 - val_loss: 0.4831 - val_acc: 0.8295\n",
      "Epoch 35/100\n",
      "114s - loss: 0.4846 - acc: 0.8279 - val_loss: 0.5027 - val_acc: 0.8195\n",
      "Epoch 36/100\n",
      "114s - loss: 0.4853 - acc: 0.8274 - val_loss: 0.4983 - val_acc: 0.8283\n",
      "Epoch 37/100\n",
      "114s - loss: 0.4862 - acc: 0.8274 - val_loss: 0.4840 - val_acc: 0.8301\n",
      "Epoch 38/100\n",
      "114s - loss: 0.4861 - acc: 0.8273 - val_loss: 0.5084 - val_acc: 0.8246\n",
      "Epoch 39/100\n",
      "114s - loss: 0.4871 - acc: 0.8271 - val_loss: 0.4907 - val_acc: 0.8273\n",
      "Epoch 40/100\n",
      "113s - loss: 0.4882 - acc: 0.8262 - val_loss: 0.4960 - val_acc: 0.8248\n",
      "Epoch 41/100\n",
      "113s - loss: 0.4889 - acc: 0.8262 - val_loss: 0.4941 - val_acc: 0.8288\n",
      "Epoch 42/100\n",
      "114s - loss: 0.4898 - acc: 0.8260 - val_loss: 0.5104 - val_acc: 0.8261\n",
      "Epoch 43/100\n",
      "114s - loss: 0.4904 - acc: 0.8259 - val_loss: 0.4953 - val_acc: 0.8231\n",
      "Epoch 44/100\n",
      "114s - loss: 0.4915 - acc: 0.8255 - val_loss: 0.5112 - val_acc: 0.8256\n",
      "Epoch 45/100\n",
      "114s - loss: 0.4924 - acc: 0.8254 - val_loss: 0.4998 - val_acc: 0.8265\n",
      "Epoch 46/100\n",
      "114s - loss: 0.4936 - acc: 0.8248 - val_loss: 0.5016 - val_acc: 0.8263\n",
      "Epoch 47/100\n",
      "114s - loss: 0.4940 - acc: 0.8247 - val_loss: 0.4908 - val_acc: 0.8279\n",
      "Epoch 48/100\n",
      "113s - loss: 0.4955 - acc: 0.8243 - val_loss: 0.4905 - val_acc: 0.8276\n",
      "Epoch 49/100\n",
      "113s - loss: 0.4965 - acc: 0.8246 - val_loss: 0.4996 - val_acc: 0.8256\n",
      "Epoch 50/100\n",
      "113s - loss: 0.4975 - acc: 0.8240 - val_loss: 0.5085 - val_acc: 0.8219\n",
      "Epoch 51/100\n",
      "113s - loss: 0.4987 - acc: 0.8234 - val_loss: 0.4967 - val_acc: 0.8266\n",
      "Epoch 52/100\n",
      "114s - loss: 0.5001 - acc: 0.8232 - val_loss: 0.5010 - val_acc: 0.8229\n",
      "Epoch 53/100\n",
      "113s - loss: 0.5015 - acc: 0.8227 - val_loss: 0.5171 - val_acc: 0.8186\n",
      "Epoch 54/100\n",
      "114s - loss: 0.5024 - acc: 0.8225 - val_loss: 0.4969 - val_acc: 0.8251\n",
      "Epoch 55/100\n",
      "113s - loss: 0.5048 - acc: 0.8217 - val_loss: 0.4951 - val_acc: 0.8249\n",
      "Epoch 56/100\n",
      "114s - loss: 0.5061 - acc: 0.8214 - val_loss: 0.5157 - val_acc: 0.8237\n",
      "Epoch 57/100\n",
      "113s - loss: 0.5082 - acc: 0.8212 - val_loss: 0.5134 - val_acc: 0.8226\n",
      "Epoch 58/100\n",
      "114s - loss: 0.5096 - acc: 0.8202 - val_loss: 0.5091 - val_acc: 0.8234\n",
      "Epoch 59/100\n",
      "114s - loss: 0.5114 - acc: 0.8200 - val_loss: 0.5089 - val_acc: 0.8204\n",
      "Epoch 60/100\n",
      "114s - loss: 0.5145 - acc: 0.8193 - val_loss: 0.5331 - val_acc: 0.8098\n",
      "Epoch 61/100\n",
      "114s - loss: 0.5161 - acc: 0.8184 - val_loss: 0.5235 - val_acc: 0.8216\n",
      "Epoch 62/100\n",
      "114s - loss: 0.5181 - acc: 0.8184 - val_loss: 0.5059 - val_acc: 0.8231\n",
      "Epoch 63/100\n",
      "114s - loss: 0.5206 - acc: 0.8173 - val_loss: 0.5188 - val_acc: 0.8186\n",
      "Epoch 64/100\n",
      "113s - loss: 0.5223 - acc: 0.8169 - val_loss: 0.5124 - val_acc: 0.8223\n",
      "Epoch 65/100\n",
      "114s - loss: 0.5236 - acc: 0.8168 - val_loss: 0.5268 - val_acc: 0.8195\n",
      "Epoch 66/100\n",
      "113s - loss: 0.5256 - acc: 0.8162 - val_loss: 0.5217 - val_acc: 0.8220\n",
      "Epoch 67/100\n",
      "114s - loss: 0.5274 - acc: 0.8156 - val_loss: 0.5235 - val_acc: 0.8195\n",
      "Epoch 68/100\n",
      "114s - loss: 0.5304 - acc: 0.8148 - val_loss: 0.5126 - val_acc: 0.8186\n",
      "Epoch 69/100\n",
      "113s - loss: 0.5328 - acc: 0.8141 - val_loss: 0.5263 - val_acc: 0.8187\n",
      "Epoch 70/100\n",
      "113s - loss: 0.5352 - acc: 0.8136 - val_loss: 0.5570 - val_acc: 0.8062\n",
      "Epoch 71/100\n",
      "114s - loss: 0.5376 - acc: 0.8127 - val_loss: 0.5243 - val_acc: 0.8176\n",
      "Epoch 72/100\n",
      "114s - loss: 0.5395 - acc: 0.8123 - val_loss: 0.5976 - val_acc: 0.8040\n",
      "Epoch 73/100\n",
      "114s - loss: 0.5429 - acc: 0.8111 - val_loss: 0.5278 - val_acc: 0.8170\n",
      "Epoch 74/100\n",
      "114s - loss: 0.5463 - acc: 0.8104 - val_loss: 0.5998 - val_acc: 0.8040\n",
      "Epoch 75/100\n",
      "114s - loss: 0.5498 - acc: 0.8094 - val_loss: 0.5446 - val_acc: 0.8087\n",
      "Epoch 76/100\n",
      "114s - loss: 0.5541 - acc: 0.8084 - val_loss: 0.5416 - val_acc: 0.8084\n",
      "Epoch 77/100\n",
      "113s - loss: 0.5582 - acc: 0.8070 - val_loss: 0.5953 - val_acc: 0.7876\n",
      "Epoch 78/100\n",
      "113s - loss: 0.5608 - acc: 0.8064 - val_loss: 0.5302 - val_acc: 0.8150\n",
      "Epoch 79/100\n",
      "114s - loss: 0.5644 - acc: 0.8051 - val_loss: 0.5573 - val_acc: 0.8078\n",
      "Epoch 80/100\n",
      "114s - loss: 0.5681 - acc: 0.8045 - val_loss: 0.5861 - val_acc: 0.8069\n",
      "Epoch 81/100\n",
      "114s - loss: 0.5717 - acc: 0.8035 - val_loss: 0.6020 - val_acc: 0.7937\n",
      "Epoch 82/100\n",
      "114s - loss: 0.5757 - acc: 0.8025 - val_loss: 0.5954 - val_acc: 0.8029\n",
      "Epoch 83/100\n",
      "114s - loss: 0.5791 - acc: 0.8014 - val_loss: 0.5694 - val_acc: 0.8117\n",
      "Epoch 84/100\n",
      "114s - loss: 0.5822 - acc: 0.8007 - val_loss: 0.5828 - val_acc: 0.8094\n",
      "Epoch 85/100\n",
      "114s - loss: 0.5864 - acc: 0.7994 - val_loss: 0.5938 - val_acc: 0.8060\n",
      "Epoch 86/100\n",
      "114s - loss: 0.5909 - acc: 0.7983 - val_loss: 0.5915 - val_acc: 0.8033\n",
      "Epoch 87/100\n",
      "113s - loss: 0.5944 - acc: 0.7976 - val_loss: 0.5985 - val_acc: 0.8022\n",
      "Epoch 88/100\n",
      "114s - loss: 0.5975 - acc: 0.7963 - val_loss: 0.6093 - val_acc: 0.7964\n",
      "Epoch 89/100\n",
      "114s - loss: 0.6024 - acc: 0.7956 - val_loss: 0.5727 - val_acc: 0.8078\n",
      "Epoch 90/100\n",
      "113s - loss: 0.6044 - acc: 0.7949 - val_loss: 0.5801 - val_acc: 0.8010\n",
      "Epoch 91/100\n",
      "114s - loss: 0.6089 - acc: 0.7937 - val_loss: 0.6257 - val_acc: 0.7952\n",
      "Epoch 92/100\n",
      "113s - loss: 0.6119 - acc: 0.7931 - val_loss: 0.6206 - val_acc: 0.8016\n",
      "Epoch 93/100\n",
      "114s - loss: 0.6141 - acc: 0.7922 - val_loss: 0.5670 - val_acc: 0.8052\n",
      "Epoch 94/100\n",
      "113s - loss: 0.6163 - acc: 0.7912 - val_loss: 0.6086 - val_acc: 0.7988\n",
      "Epoch 95/100\n",
      "114s - loss: 0.6193 - acc: 0.7911 - val_loss: 0.5784 - val_acc: 0.8045\n",
      "Epoch 96/100\n",
      "113s - loss: 0.6242 - acc: 0.7903 - val_loss: 0.6265 - val_acc: 0.7882\n",
      "Epoch 97/100\n",
      "114s - loss: 0.6282 - acc: 0.7888 - val_loss: 0.5693 - val_acc: 0.8022\n",
      "Epoch 98/100\n",
      "114s - loss: 0.6302 - acc: 0.7882 - val_loss: 0.6642 - val_acc: 0.7909\n",
      "Epoch 99/100\n",
      "114s - loss: 0.6354 - acc: 0.7870 - val_loss: 0.6320 - val_acc: 0.7810\n",
      "Epoch 100/100\n",
      "114s - loss: 0.6382 - acc: 0.7862 - val_loss: 0.6607 - val_acc: 0.7848\n",
      "[0.7098485780548669, 0.77424764933408496]\n",
      "Error rate:0.22575235066591504\n"
     ]
    }
   ],
   "source": [
    "if not use_pretrained_model:\n",
    "    model = Sequential()\n",
    "    model.add(Convolution2D(32, (3, 3), padding='same',\n",
    "                            input_shape=(context_frame_size, 13, 3), activation='relu'))\n",
    "    #model.add(Convolution2D(32, (3, 3), activation='relu'))\n",
    "    model.add(MaxPooling2D(pool_size=(2, 2), padding='same'))\n",
    "    model.add(Convolution2D(64, (3, 3), padding='same', activation='relu'))\n",
    "#    model.add(Convolution2D(64, (3, 3), activation='relu'))\n",
    "    model.add(MaxPooling2D(pool_size=(2, 2)))\n",
    "    model.add(Dropout(0.1))\n",
    "    #model.add(Convolution2D(32, (3, 3), activation='relu'))\n",
    "    #model.add(MaxPooling2D(pool_size=(2, 2)))\n",
    "    #model.add(Dropout(0.1))\n",
    "\n",
    "    model.add(Flatten())\n",
    "    #model.add(Dense(28))\n",
    "    #model.add(Activation('relu'))\n",
    "    model.add(Dense(nb_classes))\n",
    "    model.add(Activation('softmax'))\n",
    "\n",
    "    model.compile(loss='categorical_crossentropy', optimizer=RMSprop(lr=0.0001, rho=0.9, epsilon=1e-08, decay=0.0), metrics=['accuracy'])\n",
    "    history = model.fit(X_train, Y_train, batch_size=64, epochs=100, verbose=2, validation_data=(X_val, Y_val))\n",
    "    loss_and_metrics = model.evaluate(X_test, Y_test, verbose=0)\n",
    "    print(loss_and_metrics)\n",
    "    [print(\"Error rate:{}\".format(1-loss_and_metrics[1]))]\n",
    "    \n",
    "else:\n",
    "    from keras.models import load_model\n",
    "    model = load_model('pretrained_model_name')"
   ]
  },
  {
   "cell_type": "code",
   "execution_count": 8,
   "metadata": {
    "collapsed": false,
    "deletable": true,
    "editable": true
   },
   "outputs": [
    {
     "name": "stdout",
     "output_type": "stream",
     "text": [
      "dict_keys(['val_loss', 'val_acc', 'loss', 'acc'])\n"
     ]
    },
    {
     "data": {
      "image/png": "[encoded data removed]",
      "text/plain": [
       "<matplotlib.figure.Figure at 0x7fed8d19db38>"
      ]
     },
     "metadata": {},
     "output_type": "display_data"
    },
    {
     "data": {
      "image/png": "[encoded data removed]",
      "text/plain": [
       "<matplotlib.figure.Figure at 0x7fed8cd03320>"
      ]
     },
     "metadata": {},
     "output_type": "display_data"
    }
   ],
   "source": [
    "# list all data in history\n",
    "print(history.history.keys())\n",
    "# summarize history for accuracy\n",
    "plt.plot(history.history['acc'])\n",
    "plt.plot(history.history['val_acc'])\n",
    "plt.title('Model Accuracy')\n",
    "plt.ylabel('Accuracy')\n",
    "plt.xlabel('Epoch')\n",
    "plt.legend(['Training', 'Validation'], loc='upper left')\n",
    "plt.show()\n",
    "# summarize history for loss\n",
    "plt.plot(history.history['loss'])\n",
    "plt.plot(history.history['val_loss'])\n",
    "plt.title('Model Loss')\n",
    "plt.ylabel('Loss')\n",
    "plt.xlabel('Epoch')\n",
    "plt.legend(['Training', 'Validation'], loc='upper right')\n",
    "plt.show()"
   ]
  },
  {
   "cell_type": "code",
   "execution_count": 9,
   "metadata": {
    "collapsed": true,
    "deletable": true,
    "editable": true
   },
   "outputs": [],
   "source": [
    "#model.save('models/context_19_conv32_3_3_padding_pool2_2_2_conv64_3_3_padding_pool_2_2dropout_0.1_64dense_80.93acc.h5')"
   ]
  },
  {
   "cell_type": "code",
   "execution_count": null,
   "metadata": {
    "collapsed": true,
    "deletable": true,
    "editable": true
   },
   "outputs": [],
   "source": []
  }
 ],
 "metadata": {
  "kernelspec": {
   "display_name": "Python 3",
   "language": "python",
   "name": "python3"
  },
  "language_info": {
   "codemirror_mode": {
    "name": "ipython",
    "version": 3
   },
   "file_extension": ".py",
   "mimetype": "text/x-python",
   "name": "python",
   "nbconvert_exporter": "python",
   "pygments_lexer": "ipython3",
   "version": "3.5.1+"
  }
 },
 "nbformat": 4,
 "nbformat_minor": 2
}
