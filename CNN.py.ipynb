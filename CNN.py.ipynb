{
 "cells": [
  {
   "cell_type": "code",
   "execution_count": 1,
   "metadata": {
    "collapsed": true,
    "deletable": true,
    "editable": true
   },
   "outputs": [],
   "source": [
    "%matplotlib inline"
   ]
  },
  {
   "cell_type": "code",
   "execution_count": 8,
   "metadata": {
    "collapsed": false,
    "deletable": true,
    "editable": true
   },
   "outputs": [],
   "source": [
    "import sys\n",
    "import numpy as np\n",
    "import os\n",
    "import matplotlib.pyplot as plt\n",
    "\n",
    "\n",
    "from keras.utils import np_utils\n",
    "from keras.models import Sequential\n",
    "from keras.layers import Dense, Dropout, Activation, Conv2D, Convolution2D, MaxPooling2D, Flatten\n",
    "from keras.optimizers import RMSprop"
   ]
  },
  {
   "cell_type": "code",
   "execution_count": 3,
   "metadata": {
    "collapsed": false,
    "deletable": true,
    "editable": true
   },
   "outputs": [
    {
     "name": "stdout",
     "output_type": "stream",
     "text": [
      "Shape of training, validation and test data and corresponding labels\n",
      "(13, 3, 13, 1359661) (1359661,)\n",
      "(13, 3, 13, 147731) (147731,)\n",
      "(13, 3, 13, 1527014) (1527014,)\n"
     ]
    }
   ],
   "source": [
    "train_data = np.load('workdir/train_tr_MFCC_0_D_A_norm_data.npy')\n",
    "train_labels = np.load('workdir/train_tr_MFCC_0_D_A_norm_labels.npy')\n",
    "val_data = np.load('workdir/train_va_MFCC_0_D_A_norm_data.npy')\n",
    "val_labels = np.load('workdir/train_va_MFCC_0_D_A_norm_labels.npy')\n",
    "test_data = np.load('workdir/test_MFCC_0_D_A_norm_data.npy')\n",
    "test_labels = np.load('workdir/test_MFCC_0_D_A_norm_labels.npy')\n",
    "\n",
    "print(\"Shape of training, validation and test data and corresponding labels\")\n",
    "for data, labels in [(train_data, train_labels), (val_data, val_labels), (test_data, test_labels)]:\n",
    "    print(data.shape, labels.shape)"
   ]
  },
  {
   "cell_type": "code",
   "execution_count": 4,
   "metadata": {
    "collapsed": false,
    "deletable": true,
    "editable": true
   },
   "outputs": [
    {
     "name": "stdout",
     "output_type": "stream",
     "text": [
      "[  0.   1.   2.   3.   4.   5.   6.   7.   8.   9.  10.  11.  12.  13.  14.\n",
      "  15.  16.  17.  18.  19.  20.  21.  22.  23.  24.  25.  26.  27.  28.  29.\n",
      "  30.  31.  32.  33.  34.  35.  36.  37.  38.  39.  40.  41.  42.  43.  44.\n",
      "  45.  46.  47.  48.  49.  50.  51.  52.  53.  54.  55.  56.  57.  58.  59.\n",
      "  60.  61.  62.  63.]\n",
      "64\n",
      "(1359661, 64)\n",
      "42.0\n",
      "[ 0.  0.  0.  0.  0.  0.  0.  0.  0.  0.  0.  0.  0.  0.  0.  0.  0.  0.\n",
      "  0.  0.  0.  0.  0.  0.  0.  0.  0.  0.  0.  0.  0.  0.  0.  0.  0.  0.\n",
      "  0.  0.  0.  0.  0.  0.  1.  0.  0.  0.  0.  0.  0.  0.  0.  0.  0.  0.\n",
      "  0.  0.  0.  0.  0.  0.  0.  0.  0.  0.]\n"
     ]
    }
   ],
   "source": [
    "print(np.unique(train_labels))\n",
    "print(len(np.unique(train_labels)))\n",
    "nb_classes = len(np.unique(train_labels))\n",
    "y_train_asd = np.array(train_labels) \n",
    "#y_test = np.array(y_test)\n",
    "Y_train_asd = np_utils.to_categorical(y_train_asd, nb_classes)\n",
    "#Y_test = np_utils.to_categorical(y_test, nb_classes)\n",
    "print(Y_train_asd.shape)\n",
    "print(train_labels[0])\n",
    "print(Y_train_asd[0])"
   ]
  },
  {
   "cell_type": "markdown",
   "metadata": {
    "deletable": true,
    "editable": true
   },
   "source": [
    "#### Change order of columns"
   ]
  },
  {
   "cell_type": "code",
   "execution_count": 6,
   "metadata": {
    "collapsed": false,
    "deletable": true,
    "editable": true
   },
   "outputs": [
    {
     "name": "stdout",
     "output_type": "stream",
     "text": [
      "(13, 3, 13, 1359661)\n",
      "Counter({43.0: 16367, 42.0: 15000, 44.0: 10563, 41.0: 4523, 7.0: 4455, 34.0: 4136, 35.0: 4123, 15.0: 3478, 32.0: 3139, 30.0: 2803, 8.0: 2753, 57.0: 2611, 31.0: 2516, 13.0: 2514, 33.0: 2513, 36.0: 2344, 38.0: 2301, 46.0: 2293, 26.0: 2235, 6.0: 2207, 40.0: 2081, 55.0: 2039, 54.0: 2006, 53.0: 1981, 25.0: 1910, 37.0: 1812, 0.0: 1739, 48.0: 1732, 2.0: 1683, 4.0: 1633, 16.0: 1617, 39.0: 1615, 5.0: 1480, 12.0: 1460, 24.0: 1432, 22.0: 1425, 14.0: 1403, 49.0: 1391, 56.0: 1376, 62.0: 1245, 47.0: 1217, 60.0: 1206, 17.0: 1149, 51.0: 1115, 61.0: 1106, 1.0: 1068, 63.0: 1049, 20.0: 1048, 52.0: 978, 3.0: 957, 50.0: 929, 19.0: 915, 28.0: 913, 59.0: 890, 45.0: 807, 23.0: 806, 21.0: 795, 58.0: 756, 27.0: 750, 18.0: 743, 11.0: 726, 9.0: 710, 29.0: 709, 10.0: 455})\n",
      "Shape of re-ordered training, validation and test data and corresponding labels\n",
      "(1359661, 13, 13, 3) (1359661, 64)\n",
      "(147731, 13, 13, 3) (147731, 64)\n",
      "(1527014, 13, 13, 3) (1527014, 64)\n"
     ]
    }
   ],
   "source": [
    "print(train_data.shape)\n",
    "X_train = np.transpose(train_data, (3, 0, 2, 1))\n",
    "Y_train_num = train_labels\n",
    "X_val = np.transpose(val_data, (3, 0, 2, 1))\n",
    "Y_val_num = val_labels\n",
    "X_test = np.transpose(test_data, (3, 0, 2, 1))\n",
    "Y_test_num = test_labels\n",
    "\n",
    "nb_classes = 64 #number of phonemes\n",
    "\n",
    "Y_train = np_utils.to_categorical(Y_train_num, nb_classes)\n",
    "Y_val = np_utils.to_categorical(Y_val_num, nb_classes)\n",
    "Y_test = np_utils.to_categorical(Y_test_num, nb_classes)\n",
    "\n",
    "\n",
    "print(\"Shape of re-ordered training, validation and test data and corresponding labels\")\n",
    "for data, labels in [(X_train, Y_train), (X_val, Y_val), (X_test, Y_test)]:\n",
    "    print(data.shape, labels.shape)"
   ]
  },
  {
   "cell_type": "code",
   "execution_count": 9,
   "metadata": {
    "collapsed": false,
    "deletable": true,
    "editable": true
   },
   "outputs": [
    {
     "name": "stdout",
     "output_type": "stream",
     "text": [
      "Train on 1359661 samples, validate on 147731 samples\n",
      "Epoch 1/30\n",
      "70s - loss: 1.1718 - acc: 0.6525 - val_loss: 0.8100 - val_acc: 0.7382\n",
      "Epoch 2/30\n",
      "66s - loss: 0.7587 - acc: 0.7518 - val_loss: 0.7147 - val_acc: 0.7649\n",
      "Epoch 3/30\n",
      "66s - loss: 0.6887 - acc: 0.7708 - val_loss: 0.6711 - val_acc: 0.7763\n",
      "Epoch 4/30\n",
      "65s - loss: 0.6514 - acc: 0.7814 - val_loss: 0.6406 - val_acc: 0.7844\n",
      "Epoch 5/30\n",
      "65s - loss: 0.6269 - acc: 0.7887 - val_loss: 0.6286 - val_acc: 0.7895\n",
      "Epoch 6/30\n",
      "65s - loss: 0.6097 - acc: 0.7934 - val_loss: 0.6099 - val_acc: 0.7943\n",
      "Epoch 7/30\n",
      "65s - loss: 0.5968 - acc: 0.7974 - val_loss: 0.6040 - val_acc: 0.7959\n",
      "Epoch 8/30\n",
      "65s - loss: 0.5871 - acc: 0.8002 - val_loss: 0.6021 - val_acc: 0.7951\n",
      "Epoch 9/30\n",
      "65s - loss: 0.5792 - acc: 0.8025 - val_loss: 0.5948 - val_acc: 0.7991\n",
      "Epoch 10/30\n",
      "65s - loss: 0.5728 - acc: 0.8046 - val_loss: 0.5855 - val_acc: 0.8010\n",
      "Epoch 11/30\n",
      "65s - loss: 0.5672 - acc: 0.8060 - val_loss: 0.5882 - val_acc: 0.8006\n",
      "Epoch 12/30\n",
      "65s - loss: 0.5625 - acc: 0.8076 - val_loss: 0.5741 - val_acc: 0.8051\n",
      "Epoch 13/30\n",
      "65s - loss: 0.5586 - acc: 0.8088 - val_loss: 0.5863 - val_acc: 0.7991\n",
      "Epoch 14/30\n",
      "65s - loss: 0.5554 - acc: 0.8097 - val_loss: 0.5783 - val_acc: 0.8053\n",
      "Epoch 15/30\n",
      "65s - loss: 0.5525 - acc: 0.8103 - val_loss: 0.5803 - val_acc: 0.8035\n",
      "Epoch 16/30\n",
      "65s - loss: 0.5499 - acc: 0.8113 - val_loss: 0.5731 - val_acc: 0.8058\n",
      "Epoch 17/30\n",
      "65s - loss: 0.5477 - acc: 0.8119 - val_loss: 0.5716 - val_acc: 0.8063\n",
      "Epoch 18/30\n",
      "65s - loss: 0.5456 - acc: 0.8127 - val_loss: 0.5670 - val_acc: 0.8068\n",
      "Epoch 19/30\n",
      "65s - loss: 0.5437 - acc: 0.8132 - val_loss: 0.5623 - val_acc: 0.8093\n",
      "Epoch 20/30\n",
      "65s - loss: 0.5418 - acc: 0.8136 - val_loss: 0.5668 - val_acc: 0.8082\n",
      "Epoch 21/30\n",
      "65s - loss: 0.5403 - acc: 0.8143 - val_loss: 0.5699 - val_acc: 0.8080\n",
      "Epoch 22/30\n",
      "65s - loss: 0.5387 - acc: 0.8148 - val_loss: 0.5636 - val_acc: 0.8089\n",
      "Epoch 23/30\n",
      "65s - loss: 0.5375 - acc: 0.8151 - val_loss: 0.5678 - val_acc: 0.8088\n",
      "Epoch 24/30\n",
      "65s - loss: 0.5362 - acc: 0.8155 - val_loss: 0.5599 - val_acc: 0.8099\n",
      "Epoch 25/30\n",
      "65s - loss: 0.5349 - acc: 0.8158 - val_loss: 0.5618 - val_acc: 0.8099\n",
      "Epoch 26/30\n",
      "65s - loss: 0.5337 - acc: 0.8164 - val_loss: 0.5632 - val_acc: 0.8084\n",
      "Epoch 27/30\n",
      "65s - loss: 0.5327 - acc: 0.8165 - val_loss: 0.5736 - val_acc: 0.8046\n",
      "Epoch 28/30\n",
      "65s - loss: 0.5318 - acc: 0.8166 - val_loss: 0.5605 - val_acc: 0.8103\n",
      "Epoch 29/30\n",
      "65s - loss: 0.5308 - acc: 0.8169 - val_loss: 0.5599 - val_acc: 0.8102\n",
      "Epoch 30/30\n",
      "65s - loss: 0.5300 - acc: 0.8173 - val_loss: 0.5656 - val_acc: 0.8088\n",
      "[0.61815363421553737, 0.79393836598747625]\n"
     ]
    }
   ],
   "source": [
    "model = Sequential()\n",
    "model.add(Convolution2D(32, (3, 3), padding='same',\n",
    "                        input_shape=(13, 13, 3), activation='relu'))\n",
    "#model.add(Convolution2D(32, (3, 3), activation='relu'))\n",
    "model.add(MaxPooling2D(pool_size=(2, 2)))\n",
    "\n",
    "#model.add(Convolution2D(64, (3, 3), padding='same', activation='relu'))\n",
    "#model.add(Convolution2D(64, (3, 3), activation='relu'))\n",
    "#model.add(MaxPooling2D(pool_size=(2, 2)))\n",
    "#model.add(Dropout(0.1))\n",
    "#model.add(Convolution2D(32, (3, 3), activation='relu'))\n",
    "#model.add(MaxPooling2D(pool_size=(2, 2)))\n",
    "#model.add(Dropout(0.1))\n",
    "\n",
    "model.add(Flatten())\n",
    "model.add(Dense(28))\n",
    "model.add(Activation('relu'))\n",
    "model.add(Dense(nb_classes))\n",
    "model.add(Activation('softmax'))\n",
    "\n",
    "model.compile(loss='categorical_crossentropy', optimizer=RMSprop(lr=0.0001, rho=0.9, epsilon=1e-08, decay=0.0), metrics=['accuracy'])\n",
    "\n",
    "#history = model.fit(X_train, Y_train, batch_size=64, epochs=250, verbose=1, validation_data=(X_test, Y_test))\n",
    "history = model.fit(X_train, Y_train, batch_size=64, epochs=30, verbose=2, validation_data=(X_val, Y_val))\n",
    "loss_and_metrics = model.evaluate(X_test, Y_test, verbose=0)\n",
    "print(loss_and_metrics)"
   ]
  },
  {
   "cell_type": "code",
   "execution_count": 10,
   "metadata": {
    "collapsed": false,
    "deletable": true,
    "editable": true
   },
   "outputs": [
    {
     "name": "stdout",
     "output_type": "stream",
     "text": [
      "dict_keys(['loss', 'val_loss', 'acc', 'val_acc'])\n"
     ]
    },
    {
     "data": {
      "image/png": "[encoded data removed]",
      "text/plain": [
       "<matplotlib.figure.Figure at 0x7efd7f813978>"
      ]
     },
     "metadata": {},
     "output_type": "display_data"
    },
    {
     "data": {
      "image/png": "[encoded data removed]",
      "text/plain": [
       "<matplotlib.figure.Figure at 0x7efd361c2ba8>"
      ]
     },
     "metadata": {},
     "output_type": "display_data"
    }
   ],
   "source": [
    "# list all data in history\n",
    "print(history.history.keys())\n",
    "# summarize history for accuracy\n",
    "plt.plot(history.history['acc'])\n",
    "plt.plot(history.history['val_acc'])\n",
    "plt.title('Model Accuracy')\n",
    "plt.ylabel('Accuracy')\n",
    "plt.xlabel('Epoch')\n",
    "plt.legend(['Training', 'Validation'], loc='upper left')\n",
    "plt.show()\n",
    "# summarize history for loss\n",
    "plt.plot(history.history['loss'])\n",
    "plt.plot(history.history['val_loss'])\n",
    "plt.title('Model Loss')\n",
    "plt.ylabel('Loss')\n",
    "plt.xlabel('Epoch')\n",
    "plt.legend(['Training', 'Validation'], loc='upper right')\n",
    "plt.show()"
   ]
  },
  {
   "cell_type": "code",
   "execution_count": 11,
   "metadata": {
    "collapsed": true
   },
   "outputs": [],
   "source": [
    "model.save('models/conv32_3_3_pool2_2_28dense_dense_89acc.h5')"
   ]
  },
  {
   "cell_type": "code",
   "execution_count": null,
   "metadata": {
    "collapsed": true
   },
   "outputs": [],
   "source": []
  }
 ],
 "metadata": {
  "kernelspec": {
   "display_name": "Python 3",
   "language": "python",
   "name": "python3"
  },
  "language_info": {
   "codemirror_mode": {
    "name": "ipython",
    "version": 3
   },
   "file_extension": ".py",
   "mimetype": "text/x-python",
   "name": "python",
   "nbconvert_exporter": "python",
   "pygments_lexer": "ipython3",
   "version": "3.5.1+"
  }
 },
 "nbformat": 4,
 "nbformat_minor": 2
}
