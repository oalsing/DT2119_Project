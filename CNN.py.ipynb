{
 "cells": [
  {
   "cell_type": "code",
   "execution_count": 1,
   "metadata": {
    "collapsed": true,
    "deletable": true,
    "editable": true
   },
   "outputs": [],
   "source": [
    "%matplotlib inline"
   ]
  },
  {
   "cell_type": "code",
   "execution_count": 8,
   "metadata": {
    "collapsed": false,
    "deletable": true,
    "editable": true
   },
   "outputs": [],
   "source": [
    "import sys\n",
    "import numpy as np\n",
    "import os\n",
    "import matplotlib.pyplot as plt\n",
    "\n",
    "\n",
    "from keras.utils import np_utils\n",
    "from keras.models import Sequential\n",
    "from keras.layers import Dense, Dropout, Activation, Conv2D, Convolution2D, MaxPooling2D, Flatten\n",
    "from keras.optimizers import RMSprop"
   ]
  },
  {
   "cell_type": "code",
   "execution_count": 13,
   "metadata": {
    "collapsed": true
   },
   "outputs": [],
   "source": [
    "use_pretrained_model = False\n",
    "pretrained_model_name = \"\""
   ]
  },
  {
   "cell_type": "code",
   "execution_count": 3,
   "metadata": {
    "collapsed": false,
    "deletable": true,
    "editable": true
   },
   "outputs": [
    {
     "name": "stdout",
     "output_type": "stream",
     "text": [
      "Shape of training, validation and test data and corresponding labels\n",
      "(13, 3, 13, 1359661) (1359661,)\n",
      "(13, 3, 13, 147731) (147731,)\n",
      "(13, 3, 13, 1527014) (1527014,)\n"
     ]
    }
   ],
   "source": [
    "train_data = np.load('workdir/train_tr_MFCC_0_D_A_norm_data.npy')\n",
    "train_labels = np.load('workdir/train_tr_MFCC_0_D_A_norm_labels.npy')\n",
    "val_data = np.load('workdir/train_va_MFCC_0_D_A_norm_data.npy')\n",
    "val_labels = np.load('workdir/train_va_MFCC_0_D_A_norm_labels.npy')\n",
    "test_data = np.load('workdir/test_MFCC_0_D_A_norm_data.npy')\n",
    "test_labels = np.load('workdir/test_MFCC_0_D_A_norm_labels.npy')\n",
    "\n",
    "print(\"Shape of training, validation and test data and corresponding labels\")\n",
    "for data, labels in [(train_data, train_labels), (val_data, val_labels), (test_data, test_labels)]:\n",
    "    print(data.shape, labels.shape)"
   ]
  },
  {
   "cell_type": "code",
   "execution_count": 4,
   "metadata": {
    "collapsed": false,
    "deletable": true,
    "editable": true
   },
   "outputs": [
    {
     "name": "stdout",
     "output_type": "stream",
     "text": [
      "[  0.   1.   2.   3.   4.   5.   6.   7.   8.   9.  10.  11.  12.  13.  14.\n",
      "  15.  16.  17.  18.  19.  20.  21.  22.  23.  24.  25.  26.  27.  28.  29.\n",
      "  30.  31.  32.  33.  34.  35.  36.  37.  38.  39.  40.  41.  42.  43.  44.\n",
      "  45.  46.  47.  48.  49.  50.  51.  52.  53.  54.  55.  56.  57.  58.  59.\n",
      "  60.  61.  62.  63.]\n",
      "64\n",
      "(1359661, 64)\n",
      "42.0\n",
      "[ 0.  0.  0.  0.  0.  0.  0.  0.  0.  0.  0.  0.  0.  0.  0.  0.  0.  0.\n",
      "  0.  0.  0.  0.  0.  0.  0.  0.  0.  0.  0.  0.  0.  0.  0.  0.  0.  0.\n",
      "  0.  0.  0.  0.  0.  0.  1.  0.  0.  0.  0.  0.  0.  0.  0.  0.  0.  0.\n",
      "  0.  0.  0.  0.  0.  0.  0.  0.  0.  0.]\n"
     ]
    }
   ],
   "source": [
    "print(np.unique(train_labels))\n",
    "print(len(np.unique(train_labels)))\n",
    "nb_classes = len(np.unique(train_labels))\n",
    "y_train_asd = np.array(train_labels) \n",
    "#y_test = np.array(y_test)\n",
    "Y_train_asd = np_utils.to_categorical(y_train_asd, nb_classes)\n",
    "#Y_test = np_utils.to_categorical(y_test, nb_classes)\n",
    "print(Y_train_asd.shape)\n",
    "print(train_labels[0])\n",
    "print(Y_train_asd[0])"
   ]
  },
  {
   "cell_type": "markdown",
   "metadata": {
    "deletable": true,
    "editable": true
   },
   "source": [
    "#### Change order of columns"
   ]
  },
  {
   "cell_type": "code",
   "execution_count": 6,
   "metadata": {
    "collapsed": false,
    "deletable": true,
    "editable": true
   },
   "outputs": [
    {
     "name": "stdout",
     "output_type": "stream",
     "text": [
      "(13, 3, 13, 1359661)\n",
      "Counter({43.0: 16367, 42.0: 15000, 44.0: 10563, 41.0: 4523, 7.0: 4455, 34.0: 4136, 35.0: 4123, 15.0: 3478, 32.0: 3139, 30.0: 2803, 8.0: 2753, 57.0: 2611, 31.0: 2516, 13.0: 2514, 33.0: 2513, 36.0: 2344, 38.0: 2301, 46.0: 2293, 26.0: 2235, 6.0: 2207, 40.0: 2081, 55.0: 2039, 54.0: 2006, 53.0: 1981, 25.0: 1910, 37.0: 1812, 0.0: 1739, 48.0: 1732, 2.0: 1683, 4.0: 1633, 16.0: 1617, 39.0: 1615, 5.0: 1480, 12.0: 1460, 24.0: 1432, 22.0: 1425, 14.0: 1403, 49.0: 1391, 56.0: 1376, 62.0: 1245, 47.0: 1217, 60.0: 1206, 17.0: 1149, 51.0: 1115, 61.0: 1106, 1.0: 1068, 63.0: 1049, 20.0: 1048, 52.0: 978, 3.0: 957, 50.0: 929, 19.0: 915, 28.0: 913, 59.0: 890, 45.0: 807, 23.0: 806, 21.0: 795, 58.0: 756, 27.0: 750, 18.0: 743, 11.0: 726, 9.0: 710, 29.0: 709, 10.0: 455})\n",
      "Shape of re-ordered training, validation and test data and corresponding labels\n",
      "(1359661, 13, 13, 3) (1359661, 64)\n",
      "(147731, 13, 13, 3) (147731, 64)\n",
      "(1527014, 13, 13, 3) (1527014, 64)\n"
     ]
    }
   ],
   "source": [
    "print(train_data.shape)\n",
    "X_train = np.transpose(train_data, (3, 0, 2, 1))\n",
    "Y_train_num = train_labels\n",
    "X_val = np.transpose(val_data, (3, 0, 2, 1))\n",
    "Y_val_num = val_labels\n",
    "X_test = np.transpose(test_data, (3, 0, 2, 1))\n",
    "Y_test_num = test_labels\n",
    "\n",
    "nb_classes = 64 #number of phonemes\n",
    "\n",
    "Y_train = np_utils.to_categorical(Y_train_num, nb_classes)\n",
    "Y_val = np_utils.to_categorical(Y_val_num, nb_classes)\n",
    "Y_test = np_utils.to_categorical(Y_test_num, nb_classes)\n",
    "\n",
    "\n",
    "print(\"Shape of re-ordered training, validation and test data and corresponding labels\")\n",
    "for data, labels in [(X_train, Y_train), (X_val, Y_val), (X_test, Y_test)]:\n",
    "    print(data.shape, labels.shape)"
   ]
  },
  {
   "cell_type": "code",
   "execution_count": 14,
   "metadata": {
    "collapsed": false,
    "deletable": true,
    "editable": true
   },
   "outputs": [
    {
     "name": "stdout",
     "output_type": "stream",
     "text": [
      "Train on 1359661 samples, validate on 147731 samples\n",
      "Epoch 1/30\n",
      "68s - loss: 1.2128 - acc: 0.6382 - val_loss: 0.8404 - val_acc: 0.7254\n",
      "Epoch 2/30\n",
      "68s - loss: 0.7785 - acc: 0.7452 - val_loss: 0.7272 - val_acc: 0.7590\n",
      "Epoch 3/30\n",
      "68s - loss: 0.7014 - acc: 0.7671 - val_loss: 0.6843 - val_acc: 0.7712\n",
      "Epoch 4/30\n",
      "68s - loss: 0.6617 - acc: 0.7788 - val_loss: 0.6645 - val_acc: 0.7757\n",
      "Epoch 5/30\n",
      "68s - loss: 0.6373 - acc: 0.7858 - val_loss: 0.6466 - val_acc: 0.7833\n",
      "Epoch 6/30\n",
      "69s - loss: 0.6205 - acc: 0.7909 - val_loss: 0.6330 - val_acc: 0.7866\n",
      "Epoch 7/30\n",
      "68s - loss: 0.6085 - acc: 0.7943 - val_loss: 0.6252 - val_acc: 0.7886\n",
      "Epoch 8/30\n",
      "68s - loss: 0.5988 - acc: 0.7971 - val_loss: 0.6120 - val_acc: 0.7931\n",
      "Epoch 9/30\n",
      "68s - loss: 0.5911 - acc: 0.7993 - val_loss: 0.6186 - val_acc: 0.7904\n",
      "Epoch 10/30\n",
      "68s - loss: 0.5847 - acc: 0.8016 - val_loss: 0.6080 - val_acc: 0.7950\n",
      "Epoch 11/30\n",
      "68s - loss: 0.5795 - acc: 0.8027 - val_loss: 0.6075 - val_acc: 0.7943\n",
      "Epoch 12/30\n",
      "69s - loss: 0.5749 - acc: 0.8040 - val_loss: 0.6049 - val_acc: 0.7958\n",
      "Epoch 13/30\n",
      "68s - loss: 0.5710 - acc: 0.8050 - val_loss: 0.5958 - val_acc: 0.7984\n",
      "Epoch 14/30\n",
      "68s - loss: 0.5674 - acc: 0.8064 - val_loss: 0.5951 - val_acc: 0.7982\n",
      "Epoch 15/30\n",
      "68s - loss: 0.5643 - acc: 0.8071 - val_loss: 0.5957 - val_acc: 0.7977\n",
      "Epoch 16/30\n",
      "68s - loss: 0.5618 - acc: 0.8076 - val_loss: 0.5927 - val_acc: 0.7976\n",
      "Epoch 17/30\n",
      "68s - loss: 0.5592 - acc: 0.8082 - val_loss: 0.5884 - val_acc: 0.8010\n",
      "Epoch 18/30\n",
      "68s - loss: 0.5569 - acc: 0.8091 - val_loss: 0.5950 - val_acc: 0.7993\n",
      "Epoch 19/30\n",
      "68s - loss: 0.5551 - acc: 0.8097 - val_loss: 0.6042 - val_acc: 0.7976\n",
      "Epoch 20/30\n",
      "68s - loss: 0.5532 - acc: 0.8101 - val_loss: 0.5873 - val_acc: 0.8021\n",
      "Epoch 21/30\n",
      "68s - loss: 0.5513 - acc: 0.8108 - val_loss: 0.5853 - val_acc: 0.8005\n",
      "Epoch 22/30\n",
      "68s - loss: 0.5500 - acc: 0.8112 - val_loss: 0.5876 - val_acc: 0.8018\n",
      "Epoch 23/30\n",
      "69s - loss: 0.5485 - acc: 0.8116 - val_loss: 0.5929 - val_acc: 0.8018\n",
      "Epoch 24/30\n",
      "68s - loss: 0.5471 - acc: 0.8120 - val_loss: 0.5864 - val_acc: 0.8023\n",
      "Epoch 25/30\n",
      "69s - loss: 0.5455 - acc: 0.8126 - val_loss: 0.5864 - val_acc: 0.8022\n",
      "Epoch 26/30\n",
      "68s - loss: 0.5443 - acc: 0.8127 - val_loss: 0.5938 - val_acc: 0.7962\n",
      "Epoch 27/30\n",
      "68s - loss: 0.5431 - acc: 0.8131 - val_loss: 0.5844 - val_acc: 0.8029\n",
      "Epoch 28/30\n",
      "69s - loss: 0.5419 - acc: 0.8135 - val_loss: 0.5821 - val_acc: 0.8039\n",
      "Epoch 29/30\n",
      "69s - loss: 0.5406 - acc: 0.8142 - val_loss: 0.5795 - val_acc: 0.8018\n",
      "Epoch 30/30\n",
      "68s - loss: 0.5398 - acc: 0.8140 - val_loss: 0.6090 - val_acc: 0.7906\n",
      "[0.66350214862540124, 0.77481280459788737]\n"
     ]
    }
   ],
   "source": [
    "if not use_pretrained_model:\n",
    "    model = Sequential()\n",
    "    model.add(Convolution2D(32, (3, 3), padding='same',\n",
    "                            input_shape=(13, 13, 3), activation='relu'))\n",
    "    #model.add(Convolution2D(32, (3, 3), activation='relu'))\n",
    "    model.add(MaxPooling2D(pool_size=(2, 2)))\n",
    "\n",
    "    #model.add(Convolution2D(64, (3, 3), padding='same', activation='relu'))\n",
    "    model.add(Convolution2D(64, (3, 3), activation='relu'))\n",
    "    model.add(MaxPooling2D(pool_size=(2, 2)))\n",
    "    #model.add(Dropout(0.1))\n",
    "    #model.add(Convolution2D(32, (3, 3), activation='relu'))\n",
    "    #model.add(MaxPooling2D(pool_size=(2, 2)))\n",
    "    #model.add(Dropout(0.1))\n",
    "\n",
    "    model.add(Flatten())\n",
    "    #model.add(Dense(28))\n",
    "    #model.add(Activation('relu'))\n",
    "    model.add(Dense(nb_classes))\n",
    "    model.add(Activation('softmax'))\n",
    "\n",
    "    model.compile(loss='categorical_crossentropy', optimizer=RMSprop(lr=0.0001, rho=0.9, epsilon=1e-08, decay=0.0), metrics=['accuracy'])\n",
    "    history = model.fit(X_train, Y_train, batch_size=64, epochs=10, verbose=2, validation_data=(X_val, Y_val))\n",
    "    loss_and_metrics = model.evaluate(X_test, Y_test, verbose=0)\n",
    "    print(loss_and_metrics)\n",
    "    \n",
    "else:\n",
    "    from keras.models import load_model\n",
    "    model = load_model('pretrained_model_name')"
   ]
  },
  {
   "cell_type": "code",
   "execution_count": 15,
   "metadata": {
    "collapsed": false,
    "deletable": true,
    "editable": true
   },
   "outputs": [
    {
     "name": "stdout",
     "output_type": "stream",
     "text": [
      "dict_keys(['loss', 'val_loss', 'acc', 'val_acc'])\n"
     ]
    },
    {
     "data": {
      "image/png": "[encoded data removed]",
      "text/plain": [
       "<matplotlib.figure.Figure at 0x7efd361ce780>"
      ]
     },
     "metadata": {},
     "output_type": "display_data"
    },
    {
     "data": {
      "image/png": "[encoded data removed]",
      "text/plain": [
       "<matplotlib.figure.Figure at 0x7efd447752b0>"
      ]
     },
     "metadata": {},
     "output_type": "display_data"
    }
   ],
   "source": [
    "# list all data in history\n",
    "print(history.history.keys())\n",
    "# summarize history for accuracy\n",
    "plt.plot(history.history['acc'])\n",
    "plt.plot(history.history['val_acc'])\n",
    "plt.title('Model Accuracy')\n",
    "plt.ylabel('Accuracy')\n",
    "plt.xlabel('Epoch')\n",
    "plt.legend(['Training', 'Validation'], loc='upper left')\n",
    "plt.show()\n",
    "# summarize history for loss\n",
    "plt.plot(history.history['loss'])\n",
    "plt.plot(history.history['val_loss'])\n",
    "plt.title('Model Loss')\n",
    "plt.ylabel('Loss')\n",
    "plt.xlabel('Epoch')\n",
    "plt.legend(['Training', 'Validation'], loc='upper right')\n",
    "plt.show()"
   ]
  },
  {
   "cell_type": "code",
   "execution_count": 16,
   "metadata": {
    "collapsed": true
   },
   "outputs": [],
   "source": [
    "#model.save('models/conv32_3_3_pool2_2_2_conv64_3_3_pool_2_2_64dense_77acc.h5')"
   ]
  },
  {
   "cell_type": "code",
   "execution_count": null,
   "metadata": {
    "collapsed": true
   },
   "outputs": [],
   "source": []
  }
 ],
 "metadata": {
  "kernelspec": {
   "display_name": "Python 3",
   "language": "python",
   "name": "python3"
  },
  "language_info": {
   "codemirror_mode": {
    "name": "ipython",
    "version": 3
   },
   "file_extension": ".py",
   "mimetype": "text/x-python",
   "name": "python",
   "nbconvert_exporter": "python",
   "pygments_lexer": "ipython3",
   "version": "3.5.1+"
  }
 },
 "nbformat": 4,
 "nbformat_minor": 2
}
