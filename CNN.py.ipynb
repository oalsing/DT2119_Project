{
 "cells": [
  {
   "cell_type": "code",
   "execution_count": 1,
   "metadata": {
    "collapsed": true,
    "deletable": true,
    "editable": true
   },
   "outputs": [],
   "source": [
    "%matplotlib inline"
   ]
  },
  {
   "cell_type": "code",
   "execution_count": 8,
   "metadata": {
    "collapsed": false,
    "deletable": true,
    "editable": true
   },
   "outputs": [],
   "source": [
    "import sys\n",
    "import numpy as np\n",
    "import os\n",
    "import matplotlib.pyplot as plt\n",
    "\n",
    "\n",
    "from keras.utils import np_utils\n",
    "from keras.models import Sequential\n",
    "from keras.layers import Dense, Dropout, Activation, Conv2D, Convolution2D, MaxPooling2D, Flatten\n",
    "from keras.optimizers import RMSprop"
   ]
  },
  {
   "cell_type": "code",
   "execution_count": 13,
   "metadata": {
    "collapsed": true
   },
   "outputs": [],
   "source": [
    "use_pretrained_model = False\n",
    "pretrained_model_name = \"\""
   ]
  },
  {
   "cell_type": "code",
   "execution_count": 3,
   "metadata": {
    "collapsed": false,
    "deletable": true,
    "editable": true
   },
   "outputs": [
    {
     "name": "stdout",
     "output_type": "stream",
     "text": [
      "Shape of training, validation and test data and corresponding labels\n",
      "(13, 3, 13, 1359661) (1359661,)\n",
      "(13, 3, 13, 147731) (147731,)\n",
      "(13, 3, 13, 1527014) (1527014,)\n"
     ]
    }
   ],
   "source": [
    "train_data = np.load('workdir/train_tr_MFCC_0_D_A_norm_data.npy')\n",
    "train_labels = np.load('workdir/train_tr_MFCC_0_D_A_norm_labels.npy')\n",
    "val_data = np.load('workdir/train_va_MFCC_0_D_A_norm_data.npy')\n",
    "val_labels = np.load('workdir/train_va_MFCC_0_D_A_norm_labels.npy')\n",
    "test_data = np.load('workdir/test_MFCC_0_D_A_norm_data.npy')\n",
    "test_labels = np.load('workdir/test_MFCC_0_D_A_norm_labels.npy')\n",
    "\n",
    "print(\"Shape of training, validation and test data and corresponding labels\")\n",
    "for data, labels in [(train_data, train_labels), (val_data, val_labels), (test_data, test_labels)]:\n",
    "    print(data.shape, labels.shape)"
   ]
  },
  {
   "cell_type": "code",
   "execution_count": 4,
   "metadata": {
    "collapsed": false,
    "deletable": true,
    "editable": true
   },
   "outputs": [
    {
     "name": "stdout",
     "output_type": "stream",
     "text": [
      "[  0.   1.   2.   3.   4.   5.   6.   7.   8.   9.  10.  11.  12.  13.  14.\n",
      "  15.  16.  17.  18.  19.  20.  21.  22.  23.  24.  25.  26.  27.  28.  29.\n",
      "  30.  31.  32.  33.  34.  35.  36.  37.  38.  39.  40.  41.  42.  43.  44.\n",
      "  45.  46.  47.  48.  49.  50.  51.  52.  53.  54.  55.  56.  57.  58.  59.\n",
      "  60.  61.  62.  63.]\n",
      "64\n",
      "(1359661, 64)\n",
      "42.0\n",
      "[ 0.  0.  0.  0.  0.  0.  0.  0.  0.  0.  0.  0.  0.  0.  0.  0.  0.  0.\n",
      "  0.  0.  0.  0.  0.  0.  0.  0.  0.  0.  0.  0.  0.  0.  0.  0.  0.  0.\n",
      "  0.  0.  0.  0.  0.  0.  1.  0.  0.  0.  0.  0.  0.  0.  0.  0.  0.  0.\n",
      "  0.  0.  0.  0.  0.  0.  0.  0.  0.  0.]\n"
     ]
    }
   ],
   "source": [
    "print(np.unique(train_labels))\n",
    "print(len(np.unique(train_labels)))\n",
    "nb_classes = len(np.unique(train_labels))\n",
    "y_train_asd = np.array(train_labels) \n",
    "#y_test = np.array(y_test)\n",
    "Y_train_asd = np_utils.to_categorical(y_train_asd, nb_classes)\n",
    "#Y_test = np_utils.to_categorical(y_test, nb_classes)\n",
    "print(Y_train_asd.shape)\n",
    "print(train_labels[0])\n",
    "print(Y_train_asd[0])"
   ]
  },
  {
   "cell_type": "markdown",
   "metadata": {
    "deletable": true,
    "editable": true
   },
   "source": [
    "#### Change order of columns"
   ]
  },
  {
   "cell_type": "code",
   "execution_count": 6,
   "metadata": {
    "collapsed": false,
    "deletable": true,
    "editable": true
   },
   "outputs": [
    {
     "name": "stdout",
     "output_type": "stream",
     "text": [
      "(13, 3, 13, 1359661)\n",
      "Counter({43.0: 16367, 42.0: 15000, 44.0: 10563, 41.0: 4523, 7.0: 4455, 34.0: 4136, 35.0: 4123, 15.0: 3478, 32.0: 3139, 30.0: 2803, 8.0: 2753, 57.0: 2611, 31.0: 2516, 13.0: 2514, 33.0: 2513, 36.0: 2344, 38.0: 2301, 46.0: 2293, 26.0: 2235, 6.0: 2207, 40.0: 2081, 55.0: 2039, 54.0: 2006, 53.0: 1981, 25.0: 1910, 37.0: 1812, 0.0: 1739, 48.0: 1732, 2.0: 1683, 4.0: 1633, 16.0: 1617, 39.0: 1615, 5.0: 1480, 12.0: 1460, 24.0: 1432, 22.0: 1425, 14.0: 1403, 49.0: 1391, 56.0: 1376, 62.0: 1245, 47.0: 1217, 60.0: 1206, 17.0: 1149, 51.0: 1115, 61.0: 1106, 1.0: 1068, 63.0: 1049, 20.0: 1048, 52.0: 978, 3.0: 957, 50.0: 929, 19.0: 915, 28.0: 913, 59.0: 890, 45.0: 807, 23.0: 806, 21.0: 795, 58.0: 756, 27.0: 750, 18.0: 743, 11.0: 726, 9.0: 710, 29.0: 709, 10.0: 455})\n",
      "Shape of re-ordered training, validation and test data and corresponding labels\n",
      "(1359661, 13, 13, 3) (1359661, 64)\n",
      "(147731, 13, 13, 3) (147731, 64)\n",
      "(1527014, 13, 13, 3) (1527014, 64)\n"
     ]
    }
   ],
   "source": [
    "print(train_data.shape)\n",
    "X_train = np.transpose(train_data, (3, 0, 2, 1))\n",
    "Y_train_num = train_labels\n",
    "X_val = np.transpose(val_data, (3, 0, 2, 1))\n",
    "Y_val_num = val_labels\n",
    "X_test = np.transpose(test_data, (3, 0, 2, 1))\n",
    "Y_test_num = test_labels\n",
    "\n",
    "nb_classes = 64 #number of phonemes\n",
    "\n",
    "Y_train = np_utils.to_categorical(Y_train_num, nb_classes)\n",
    "Y_val = np_utils.to_categorical(Y_val_num, nb_classes)\n",
    "Y_test = np_utils.to_categorical(Y_test_num, nb_classes)\n",
    "\n",
    "\n",
    "print(\"Shape of re-ordered training, validation and test data and corresponding labels\")\n",
    "for data, labels in [(X_train, Y_train), (X_val, Y_val), (X_test, Y_test)]:\n",
    "    print(data.shape, labels.shape)"
   ]
  },
  {
   "cell_type": "code",
   "execution_count": 21,
   "metadata": {
    "collapsed": false,
    "deletable": true,
    "editable": true
   },
   "outputs": [
    {
     "name": "stdout",
     "output_type": "stream",
     "text": [
      "Train on 1359661 samples, validate on 147731 samples\n",
      "Epoch 1/20\n",
      "75s - loss: 1.0261 - acc: 0.6833 - val_loss: 0.6798 - val_acc: 0.7727\n",
      "Epoch 2/20\n",
      "79s - loss: 0.6711 - acc: 0.7745 - val_loss: 0.6106 - val_acc: 0.7941\n",
      "Epoch 3/20\n",
      "109s - loss: 0.6176 - acc: 0.7901 - val_loss: 0.5783 - val_acc: 0.8040\n",
      "Epoch 4/20\n",
      "80s - loss: 0.5917 - acc: 0.7975 - val_loss: 0.5628 - val_acc: 0.8077\n",
      "Epoch 5/20\n",
      "75s - loss: 0.5762 - acc: 0.8020 - val_loss: 0.5498 - val_acc: 0.8123\n",
      "Epoch 6/20\n",
      "75s - loss: 0.5652 - acc: 0.8055 - val_loss: 0.5472 - val_acc: 0.8122\n",
      "Epoch 7/20\n",
      "75s - loss: 0.5564 - acc: 0.8082 - val_loss: 0.5363 - val_acc: 0.8153\n",
      "Epoch 8/20\n",
      "75s - loss: 0.5507 - acc: 0.8102 - val_loss: 0.5334 - val_acc: 0.8175\n",
      "Epoch 9/20\n",
      "75s - loss: 0.5459 - acc: 0.8116 - val_loss: 0.5292 - val_acc: 0.8185\n",
      "Epoch 10/20\n",
      "75s - loss: 0.5418 - acc: 0.8130 - val_loss: 0.5279 - val_acc: 0.8179\n",
      "Epoch 11/20\n",
      "75s - loss: 0.5382 - acc: 0.8141 - val_loss: 0.5235 - val_acc: 0.8193\n",
      "Epoch 12/20\n",
      "74s - loss: 0.5359 - acc: 0.8149 - val_loss: 0.5243 - val_acc: 0.8194\n",
      "Epoch 13/20\n",
      "75s - loss: 0.5326 - acc: 0.8158 - val_loss: 0.5233 - val_acc: 0.8204\n",
      "Epoch 14/20\n",
      "75s - loss: 0.5310 - acc: 0.8165 - val_loss: 0.5217 - val_acc: 0.8211\n",
      "Epoch 15/20\n",
      "75s - loss: 0.5288 - acc: 0.8170 - val_loss: 0.5188 - val_acc: 0.8215\n",
      "Epoch 16/20\n",
      "74s - loss: 0.5271 - acc: 0.8175 - val_loss: 0.5222 - val_acc: 0.8212\n",
      "Epoch 17/20\n",
      "75s - loss: 0.5256 - acc: 0.8178 - val_loss: 0.5177 - val_acc: 0.8226\n",
      "Epoch 18/20\n",
      "75s - loss: 0.5249 - acc: 0.8181 - val_loss: 0.5162 - val_acc: 0.8242\n",
      "Epoch 19/20\n",
      "75s - loss: 0.5240 - acc: 0.8184 - val_loss: 0.5291 - val_acc: 0.8183\n",
      "Epoch 20/20\n",
      "75s - loss: 0.5222 - acc: 0.8188 - val_loss: 0.5167 - val_acc: 0.8248\n",
      "[0.56454077239469402, 0.80939009072612278]\n",
      "Error rate:0.19060990927387722\n"
     ]
    }
   ],
   "source": [
    "if not use_pretrained_model:\n",
    "    model = Sequential()\n",
    "    model.add(Convolution2D(32, (3, 3), padding='same',\n",
    "                            input_shape=(13, 13, 3), activation='relu'))\n",
    "    #model.add(Convolution2D(32, (3, 3), activation='relu'))\n",
    "    model.add(MaxPooling2D(pool_size=(2, 2), padding='same'))\n",
    "    model.add(Convolution2D(64, (3, 3), padding='same', activation='relu'))\n",
    "#    model.add(Convolution2D(64, (3, 3), activation='relu'))\n",
    "    model.add(MaxPooling2D(pool_size=(2, 2)))\n",
    "    model.add(Dropout(0.1))\n",
    "    #model.add(Convolution2D(32, (3, 3), activation='relu'))\n",
    "    #model.add(MaxPooling2D(pool_size=(2, 2)))\n",
    "    #model.add(Dropout(0.1))\n",
    "\n",
    "    model.add(Flatten())\n",
    "    #model.add(Dense(28))\n",
    "    #model.add(Activation('relu'))\n",
    "    model.add(Dense(nb_classes))\n",
    "    model.add(Activation('softmax'))\n",
    "\n",
    "    model.compile(loss='categorical_crossentropy', optimizer=RMSprop(lr=0.0001, rho=0.9, epsilon=1e-08, decay=0.0), metrics=['accuracy'])\n",
    "    history = model.fit(X_train, Y_train, batch_size=64, epochs=20, verbose=2, validation_data=(X_val, Y_val))\n",
    "    loss_and_metrics = model.evaluate(X_test, Y_test, verbose=0)\n",
    "    print(loss_and_metrics)\n",
    "    [print(\"Error rate:{}\".format(1-loss_and_metrics[1]))]\n",
    "    \n",
    "else:\n",
    "    from keras.models import load_model\n",
    "    model = load_model('pretrained_model_name')"
   ]
  },
  {
   "cell_type": "code",
   "execution_count": 22,
   "metadata": {
    "collapsed": false,
    "deletable": true,
    "editable": true
   },
   "outputs": [
    {
     "name": "stdout",
     "output_type": "stream",
     "text": [
      "dict_keys(['loss', 'val_loss', 'acc', 'val_acc'])\n"
     ]
    },
    {
     "data": {
      "image/png": "[encoded data removed]",
      "text/plain": [
       "<matplotlib.figure.Figure at 0x7efd340724e0>"
      ]
     },
     "metadata": {},
     "output_type": "display_data"
    },
    {
     "data": {
      "image/png": "[encoded data removed]",
      "text/plain": [
       "<matplotlib.figure.Figure at 0x7efd186c62b0>"
      ]
     },
     "metadata": {},
     "output_type": "display_data"
    }
   ],
   "source": [
    "# list all data in history\n",
    "print(history.history.keys())\n",
    "# summarize history for accuracy\n",
    "plt.plot(history.history['acc'])\n",
    "plt.plot(history.history['val_acc'])\n",
    "plt.title('Model Accuracy')\n",
    "plt.ylabel('Accuracy')\n",
    "plt.xlabel('Epoch')\n",
    "plt.legend(['Training', 'Validation'], loc='upper left')\n",
    "plt.show()\n",
    "# summarize history for loss\n",
    "plt.plot(history.history['loss'])\n",
    "plt.plot(history.history['val_loss'])\n",
    "plt.title('Model Loss')\n",
    "plt.ylabel('Loss')\n",
    "plt.xlabel('Epoch')\n",
    "plt.legend(['Training', 'Validation'], loc='upper right')\n",
    "plt.show()"
   ]
  },
  {
   "cell_type": "code",
   "execution_count": 16,
   "metadata": {
    "collapsed": true
   },
   "outputs": [],
   "source": [
    "#model.save('models/conv32_3_3_padding_pool2_2_2_conv64_3_3_padding_pool_2_2_64dense_77acc.h5')"
   ]
  },
  {
   "cell_type": "code",
   "execution_count": null,
   "metadata": {
    "collapsed": true
   },
   "outputs": [],
   "source": []
  }
 ],
 "metadata": {
  "kernelspec": {
   "display_name": "Python 3",
   "language": "python",
   "name": "python3"
  },
  "language_info": {
   "codemirror_mode": {
    "name": "ipython",
    "version": 3
   },
   "file_extension": ".py",
   "mimetype": "text/x-python",
   "name": "python",
   "nbconvert_exporter": "python",
   "pygments_lexer": "ipython3",
   "version": "3.5.1+"
  }
 },
 "nbformat": 4,
 "nbformat_minor": 2
}
