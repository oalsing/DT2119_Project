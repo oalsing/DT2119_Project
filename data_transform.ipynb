{
 "cells": [
  {
   "cell_type": "code",
   "execution_count": 1,
   "metadata": {
    "collapsed": true,
    "deletable": true,
    "editable": true
   },
   "outputs": [],
   "source": [
    "from tools import pfile\n",
    "import numpy as np\n",
    "import matplotlib.pyplot as plt\n",
    "import os.path\n",
    "import sys"
   ]
  },
  {
   "cell_type": "code",
   "execution_count": 2,
   "metadata": {
    "collapsed": false,
    "deletable": true,
    "editable": true
   },
   "outputs": [
    {
     "name": "stdout",
     "output_type": "stream",
     "text": [
      "<class 'bytes'>\n",
      "Loaded\n",
      "Computing matrix for: workdir/train_va_MFCC_0_D_A_norm.pfile\n",
      "X_shape (19, 3, 13, 147731)\n",
      "inp_shape (147749, 3, 13)\n",
      "Computed\n",
      "Saving matrix for: workdir/train_va_MFCC_0_D_A_norm.pfile, to workdir/train_va_MFCC_0_D_A_norm_data_context_19.npy\n",
      "<class 'bytes'>\n",
      "Loaded\n",
      "Computing matrix for: workdir/train_tr_MFCC_0_D_A_norm.pfile\n",
      "X_shape (19, 3, 13, 1359661)\n",
      "inp_shape (1359679, 3, 13)\n",
      "Computed\n",
      "Saving matrix for: workdir/train_tr_MFCC_0_D_A_norm.pfile, to workdir/train_tr_MFCC_0_D_A_norm_data_context_19.npy\n",
      "<class 'bytes'>\n",
      "Loaded\n",
      "Computing matrix for: workdir/test_MFCC_0_D_A_norm.pfile\n",
      "X_shape (19, 3, 13, 1527014)\n",
      "inp_shape (1527032, 3, 13)\n",
      "Computed\n",
      "Saving matrix for: workdir/test_MFCC_0_D_A_norm.pfile, to workdir/test_MFCC_0_D_A_norm_data_context_19.npy\n"
     ]
    }
   ],
   "source": [
    "n_dimensions = 3\n",
    "context_frame_size = 19\n",
    "context_padding = (context_frame_size-1)//2\n",
    "for file in ['workdir/train_va_MFCC_0_D_A_norm.pfile', 'workdir/train_tr_MFCC_0_D_A_norm.pfile','workdir/test_MFCC_0_D_A_norm.pfile']:\n",
    "    if not os.path.isfile(file):\n",
    "        print('File: {} is missing. Terminating.'.format(file))\n",
    "        break\n",
    "        \n",
    "    p_data = pfile.pfile_read(file)\n",
    "    print('Loaded')\n",
    "    \n",
    "    n_datapoints = len(p_data[0])\n",
    "    \n",
    "    n_features = len(p_data[2][0])\n",
    "    assert n_features%3 == 0, 'The feature vector should be divideable by three, but is {}'.format(n_features)\n",
    "    context_hight = n_features//n_dimensions\n",
    "    \n",
    "    X = np.zeros([context_frame_size, n_dimensions, context_hight, n_datapoints])\n",
    "    Y = np.zeros([n_datapoints,])\n",
    "    \n",
    "    padding = np.zeros([context_padding, n_dimensions, context_hight])\n",
    "    in_data = np.reshape(p_data[2], [n_datapoints, n_dimensions, context_hight])\n",
    "    in_data = np.concatenate([padding, in_data, padding])\n",
    "    print('Computing matrix for: {}'.format(file))\n",
    "    print('X_shape', X.shape)\n",
    "    print('inp_shape', in_data.shape)\n",
    "    for i in range(n_datapoints):\n",
    "        \n",
    "        start = i\n",
    "        end = i + context_frame_size \n",
    "        X[:, :, :, i] = in_data[start:end, :, :] \n",
    "        Y[i] = p_data[3][i] \n",
    "        \n",
    "    print('Computed')\n",
    "    data_save_file_name = '{}_data_context_{}.npy'.format(file.split('.')[0], str(context_frame_size))\n",
    "    labels_save_file_name = '{}_labels_context_{}.npy'.format(file.split('.')[0], str(context_frame_size))\n",
    "    \n",
    "    \n",
    "    print('Saving matrix for: {}, to {}'.format(file, data_save_file_name))\n",
    "    np.save(data_save_file_name, X)\n",
    "    np.save(labels_save_file_name, Y)\n",
    "    "
   ]
  },
  {
   "cell_type": "code",
   "execution_count": 4,
   "metadata": {
    "collapsed": false,
    "deletable": true,
    "editable": true
   },
   "outputs": [
    {
     "name": "stdout",
     "output_type": "stream",
     "text": [
      "<class 'bytes'>\n"
     ]
    }
   ],
   "source": [
    "# Test the data\n",
    "# These plots should look the same\n",
    "\n",
    "data = np.load('workdir/train_va_MFCC_0_D_A_norm_data_context_{}.npy'.format(str(context_frame_size)))\n",
    "p_data = pfile.pfile_read('workdir/train_va_MFCC_0_D_A_norm.pfile')"
   ]
  },
  {
   "cell_type": "code",
   "execution_count": 6,
   "metadata": {
    "collapsed": false,
    "deletable": true,
    "editable": true
   },
   "outputs": [
    {
     "data": {
      "image/png": "[encoded data removed]",
      "text/plain": [
       "<matplotlib.figure.Figure at 0x7f93c39e2f98>"
      ]
     },
     "metadata": {},
     "output_type": "display_data"
    }
   ],
   "source": [
    "\n",
    "plt.subplot(1,2,1)\n",
    "plt.imshow(p_data[2][0:context_frame_size,:].T)\n",
    "plt.subplot(1,2,2)\n",
    "plt.imshow(np.concatenate([data[:,0,:,context_padding].T, data[:,1,:,context_padding].T, data[:,2,:,context_padding].T]))\n",
    "plt.show()"
   ]
  },
  {
   "cell_type": "code",
   "execution_count": 7,
   "metadata": {
    "collapsed": false,
    "deletable": true,
    "editable": true
   },
   "outputs": [],
   "source": [
    "plt.show()"
   ]
  },
  {
   "cell_type": "code",
   "execution_count": 8,
   "metadata": {
    "collapsed": false,
    "deletable": true,
    "editable": true
   },
   "outputs": [
    {
     "data": {
      "text/plain": [
       "array([ 0.,  0.,  0.,  0.,  0.,  0.,  0.,  0.,  0.,  0.,  0.,  0.,  0.,\n",
       "        0.,  0.,  0.,  0.,  0.,  0.,  0.,  0.,  0.,  0.,  0.,  0.,  0.,\n",
       "        0.,  0.,  0.,  0.,  0.,  0.,  0.,  0.,  0.,  0.,  0.,  0.,  0.,\n",
       "        0.,  0.,  0.,  0.,  0.,  0.,  0.,  0.,  0.,  0.,  0.,  0.,  0.,\n",
       "        0.,  0.,  0.,  0.,  0.,  0.,  0.,  0.,  0.,  0.,  0.,  0.,  0.,\n",
       "        0.,  0.,  0.,  0.,  0.,  0.,  0.,  0.,  0.,  0.,  0.,  0.,  0.,\n",
       "        0.,  0.,  0.,  0.,  0.,  0.,  0.,  0.,  0.,  0.,  0.,  0.,  0.,\n",
       "        0.,  0.,  0.,  0.,  0.,  0.,  0.,  0.,  0.,  0.,  0.,  0.,  0.,\n",
       "        0.,  0.,  0.,  0.,  0.,  0.,  0.,  0.,  0.,  0.,  0.,  0.,  0.,\n",
       "        0.,  0.,  0.,  0.,  0.,  0.,  0.,  0.,  0.,  0.,  0.,  0.,  0.,\n",
       "        0.,  0.,  0.,  0.,  0.,  0.,  0.,  0.,  0.,  0.,  0.,  0.,  0.,\n",
       "        0.,  0.,  0.,  0.,  0.,  1.,  1.,  1.,  1.,  1.,  1.,  1.,  1.,\n",
       "        1.,  1.,  1.,  1.,  1.,  1.,  1.,  1.,  1.,  1.,  1.,  1.,  1.,\n",
       "        1.,  1.,  1.,  1.,  1.,  1.,  1.,  1.,  1.,  1.,  1.,  1.,  1.,\n",
       "        1.,  1.,  1.,  1.,  1.,  1.,  1.,  1.,  1.,  1.,  1.,  1.,  1.,\n",
       "        1.,  1.,  1.,  1.,  1.,  1.,  1.,  1.,  1.,  1.,  1.,  1.,  1.,\n",
       "        1.,  1.,  1.,  1.,  1.,  1.,  1.,  1.,  1.,  1.])"
      ]
     },
     "execution_count": 8,
     "metadata": {},
     "output_type": "execute_result"
    }
   ],
   "source": [
    "p_data[0][:218]"
   ]
  },
  {
   "cell_type": "code",
   "execution_count": 9,
   "metadata": {
    "collapsed": false,
    "deletable": true,
    "editable": true
   },
   "outputs": [],
   "source": [
    "a = np.array(list(range(33)))"
   ]
  },
  {
   "cell_type": "code",
   "execution_count": 10,
   "metadata": {
    "collapsed": false,
    "deletable": true,
    "editable": true
   },
   "outputs": [],
   "source": [
    "b = np.array([a, a, a, a, a+100, a+100, a+100, a+100, a+200,a+200,a+200,a+200]).T\n",
    "c =  np.concatenate([b, b+33, b+66,b+99 ,b+132, b+165])\n"
   ]
  },
  {
   "cell_type": "code",
   "execution_count": 11,
   "metadata": {
    "collapsed": false,
    "deletable": true,
    "editable": true
   },
   "outputs": [
    {
     "data": {
      "text/plain": [
       "(198, 12)"
      ]
     },
     "execution_count": 11,
     "metadata": {},
     "output_type": "execute_result"
    }
   ],
   "source": [
    "c.shape"
   ]
  },
  {
   "cell_type": "code",
   "execution_count": 12,
   "metadata": {
    "collapsed": false,
    "deletable": true,
    "editable": true
   },
   "outputs": [
    {
     "data": {
      "text/plain": [
       "array([[ 0,  0,  0,  0],\n",
       "       [ 1,  1,  1,  1],\n",
       "       [ 2,  2,  2,  2],\n",
       "       [ 3,  3,  3,  3],\n",
       "       [ 4,  4,  4,  4],\n",
       "       [ 5,  5,  5,  5],\n",
       "       [ 6,  6,  6,  6],\n",
       "       [ 7,  7,  7,  7],\n",
       "       [ 8,  8,  8,  8],\n",
       "       [ 9,  9,  9,  9],\n",
       "       [10, 10, 10, 10],\n",
       "       [11, 11, 11, 11]])"
      ]
     },
     "execution_count": 12,
     "metadata": {},
     "output_type": "execute_result"
    }
   ],
   "source": [
    "d = np.reshape(c[:, :], [198, 3, 4])\n",
    "d[:12, 0, :]"
   ]
  },
  {
   "cell_type": "code",
   "execution_count": 13,
   "metadata": {
    "collapsed": false,
    "deletable": true,
    "editable": true
   },
   "outputs": [
    {
     "data": {
      "text/plain": [
       "(147731, 39)"
      ]
     },
     "execution_count": 13,
     "metadata": {},
     "output_type": "execute_result"
    }
   ],
   "source": [
    "p_data[2].shape"
   ]
  },
  {
   "cell_type": "code",
   "execution_count": null,
   "metadata": {
    "collapsed": true,
    "deletable": true,
    "editable": true
   },
   "outputs": [],
   "source": []
  }
 ],
 "metadata": {
  "kernelspec": {
   "display_name": "Python 3",
   "language": "python",
   "name": "python3"
  },
  "language_info": {
   "codemirror_mode": {
    "name": "ipython",
    "version": 3
   },
   "file_extension": ".py",
   "mimetype": "text/x-python",
   "name": "python",
   "nbconvert_exporter": "python",
   "pygments_lexer": "ipython3",
   "version": "3.5.1+"
  }
 },
 "nbformat": 4,
 "nbformat_minor": 1
}
