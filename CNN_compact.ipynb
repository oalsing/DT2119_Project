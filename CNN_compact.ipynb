{
 "cells": [
  {
   "cell_type": "code",
   "execution_count": 6,
   "metadata": {
    "collapsed": true,
    "deletable": true,
    "editable": true
   },
   "outputs": [],
   "source": [
    "%matplotlib inline"
   ]
  },
  {
   "cell_type": "code",
   "execution_count": 7,
   "metadata": {
    "collapsed": false,
    "deletable": true,
    "editable": true
   },
   "outputs": [],
   "source": [
    "import sys\n",
    "import numpy as np\n",
    "import os\n",
    "import matplotlib.pyplot as plt\n",
    "\n",
    "\n",
    "from keras.utils import np_utils\n",
    "from keras.models import Sequential\n",
    "from keras.layers import Dense, Dropout, Activation, Conv2D, Convolution2D, MaxPooling2D, Flatten\n",
    "from keras.optimizers import RMSprop"
   ]
  },
  {
   "cell_type": "code",
   "execution_count": 8,
   "metadata": {
    "collapsed": true,
    "deletable": true,
    "editable": true
   },
   "outputs": [],
   "source": [
    "def run(context_frame_size):\n",
    "    train_data = np.load('workdir/train_tr_MFCC_0_D_A_norm_data_context_{}.npy'.format(str(context_frame_size)))\n",
    "    train_labels = np.load('workdir/train_tr_MFCC_0_D_A_norm_labels_context_{}.npy'.format(str(context_frame_size)))\n",
    "    val_data = np.load('workdir/train_va_MFCC_0_D_A_norm_data_context_{}.npy'.format(str(context_frame_size)))\n",
    "    val_labels = np.load('workdir/train_va_MFCC_0_D_A_norm_labels_context_{}.npy'.format(str(context_frame_size)))\n",
    "    test_data = np.load('workdir/test_MFCC_0_D_A_norm_data_context_{}.npy'.format(str(context_frame_size)))\n",
    "    test_labels = np.load('workdir/test_MFCC_0_D_A_norm_labels_context_{}.npy'.format(str(context_frame_size)))\n",
    "\n",
    "    print(\"Shape of training, validation and test data and corresponding labels\")\n",
    "    for data, labels in [(train_data, train_labels), (val_data, val_labels), (test_data, test_labels)]:\n",
    "        print(data.shape, labels.shape)\n",
    "        \n",
    "    print(train_data.shape)\n",
    "    X_train = np.transpose(train_data, (3, 0, 2, 1))\n",
    "    Y_train_num = train_labels\n",
    "    X_val = np.transpose(val_data, (3, 0, 2, 1))\n",
    "    Y_val_num = val_labels\n",
    "    X_test = np.transpose(test_data, (3, 0, 2, 1))\n",
    "    Y_test_num = test_labels\n",
    "\n",
    "    nb_classes = 64 #number of phonemes\n",
    "\n",
    "    Y_train = np_utils.to_categorical(Y_train_num, nb_classes)\n",
    "    Y_val = np_utils.to_categorical(Y_val_num, nb_classes)\n",
    "    Y_test = np_utils.to_categorical(Y_test_num, nb_classes)\n",
    "\n",
    "\n",
    "    print(\"Shape of re-ordered training, validation and test data and corresponding labels\")\n",
    "    for data, labels in [(X_train, Y_train), (X_val, Y_val), (X_test, Y_test)]:\n",
    "        print(data.shape, labels.shape)\n",
    "        \n",
    "    if not use_pretrained_model:\n",
    "        model = Sequential()\n",
    "        model.add(Convolution2D(32, (3, 3), padding='same',\n",
    "                                input_shape=(context_frame_size, 13, 3), activation='relu'))\n",
    "        #model.add(Convolution2D(32, (3, 3), activation='relu'))\n",
    "        model.add(MaxPooling2D(pool_size=(2, 2), padding='same'))\n",
    "        #model.add(Convolution2D(64, (3, 3), padding='same', activation='relu'))\n",
    "    #    model.add(Convolution2D(64, (3, 3), activation='relu'))\n",
    "        #model.add(MaxPooling2D(pool_size=(1, 1)))\n",
    "        model.add(Dropout(0.1))\n",
    "        #model.add(Convolution2D(32, (3, 3), activation='relu'))\n",
    "        #model.add(MaxPooling2D(pool_size=(2, 2)))\n",
    "        #model.add(Dropout(0.1))\n",
    "\n",
    "        model.add(Flatten())\n",
    "        model.add(Dense(28))\n",
    "        model.add(Activation('relu'))\n",
    "        model.add(Dense(nb_classes))\n",
    "        model.add(Activation('softmax'))\n",
    "\n",
    "        model.compile(loss='categorical_crossentropy', optimizer=RMSprop(lr=0.0001, rho=0.9, epsilon=1e-08, decay=0.0), metrics=['accuracy'])\n",
    "        history = model.fit(X_train, Y_train, batch_size=64, epochs=40, verbose=2, validation_data=(X_val, Y_val))\n",
    "        loss_and_metrics = model.evaluate(X_test, Y_test, verbose=0)\n",
    "        print(loss_and_metrics)\n",
    "        [print(\"Error rate:{}\".format(1-loss_and_metrics[1]))]\n",
    "\n",
    "    else:\n",
    "        from keras.models import load_model\n",
    "        model = load_model('pretrained_model_name')\n",
    "        \n",
    "    # list all data in history\n",
    "    print(history.history.keys())\n",
    "    # summarize history for accuracy\n",
    "    plt.plot(history.history['acc'])\n",
    "    plt.plot(history.history['val_acc'])\n",
    "    plt.title('Model Accuracy')\n",
    "    plt.ylabel('Accuracy')\n",
    "    plt.xlabel('Epoch')\n",
    "    plt.legend(['Training', 'Validation'], loc='upper left')\n",
    "    plt.show()\n",
    "    # summarize history for loss\n",
    "    plt.plot(history.history['loss'])\n",
    "    plt.plot(history.history['val_loss'])\n",
    "    plt.title('Model Loss')\n",
    "    plt.ylabel('Loss')\n",
    "    plt.xlabel('Epoch')\n",
    "    plt.legend(['Training', 'Validation'], loc='upper right')\n",
    "    plt.show()"
   ]
  },
  {
   "cell_type": "code",
   "execution_count": 9,
   "metadata": {
    "collapsed": false,
    "deletable": true,
    "editable": true
   },
   "outputs": [
    {
     "name": "stdout",
     "output_type": "stream",
     "text": [
      "Shape of training, validation and test data and corresponding labels\n",
      "(19, 3, 13, 1359661) (1359661,)\n",
      "(19, 3, 13, 147731) (147731,)\n",
      "(19, 3, 13, 1527014) (1527014,)\n",
      "(19, 3, 13, 1359661)\n",
      "Shape of re-ordered training, validation and test data and corresponding labels\n",
      "(1359661, 19, 13, 3) (1359661, 64)\n",
      "(147731, 19, 13, 3) (147731, 64)\n",
      "(1527014, 19, 13, 3) (1527014, 64)\n",
      "Train on 1359661 samples, validate on 147731 samples\n",
      "Epoch 1/40\n",
      "414s - loss: 1.0693 - acc: 0.6759 - val_loss: 0.7107 - val_acc: 0.7653\n",
      "Epoch 2/40\n",
      "109s - loss: 0.6906 - acc: 0.7687 - val_loss: 0.6115 - val_acc: 0.7925\n",
      "Epoch 3/40\n",
      "109s - loss: 0.6292 - acc: 0.7860 - val_loss: 0.5804 - val_acc: 0.7996\n",
      "Epoch 4/40\n",
      "109s - loss: 0.5977 - acc: 0.7951 - val_loss: 0.5604 - val_acc: 0.8069\n",
      "Epoch 5/40\n",
      "109s - loss: 0.5764 - acc: 0.8009 - val_loss: 0.5465 - val_acc: 0.8110\n",
      "Epoch 6/40\n",
      "109s - loss: 0.5613 - acc: 0.8058 - val_loss: 0.5266 - val_acc: 0.8174\n",
      "Epoch 7/40\n",
      "109s - loss: 0.5485 - acc: 0.8099 - val_loss: 0.5270 - val_acc: 0.8175\n",
      "Epoch 8/40\n",
      "109s - loss: 0.5381 - acc: 0.8126 - val_loss: 0.5114 - val_acc: 0.8231\n",
      "Epoch 9/40\n",
      "109s - loss: 0.5308 - acc: 0.8152 - val_loss: 0.5085 - val_acc: 0.8241\n",
      "Epoch 10/40\n",
      "109s - loss: 0.5240 - acc: 0.8171 - val_loss: 0.5078 - val_acc: 0.8242\n",
      "Epoch 11/40\n",
      "110s - loss: 0.5184 - acc: 0.8191 - val_loss: 0.5031 - val_acc: 0.8246\n",
      "Epoch 12/40\n",
      "109s - loss: 0.5148 - acc: 0.8201 - val_loss: 0.4990 - val_acc: 0.8271\n",
      "Epoch 13/40\n",
      "109s - loss: 0.5105 - acc: 0.8213 - val_loss: 0.4968 - val_acc: 0.8271\n",
      "Epoch 14/40\n",
      "109s - loss: 0.5076 - acc: 0.8222 - val_loss: 0.4901 - val_acc: 0.8307\n",
      "Epoch 15/40\n",
      "109s - loss: 0.5045 - acc: 0.8234 - val_loss: 0.4886 - val_acc: 0.8313\n",
      "Epoch 16/40\n",
      "108s - loss: 0.5020 - acc: 0.8242 - val_loss: 0.4919 - val_acc: 0.8289\n",
      "Epoch 17/40\n",
      "109s - loss: 0.4996 - acc: 0.8251 - val_loss: 0.4861 - val_acc: 0.8321\n",
      "Epoch 18/40\n",
      "109s - loss: 0.4975 - acc: 0.8257 - val_loss: 0.4821 - val_acc: 0.8323\n",
      "Epoch 19/40\n",
      "109s - loss: 0.4959 - acc: 0.8260 - val_loss: 0.4855 - val_acc: 0.8315\n",
      "Epoch 20/40\n",
      "109s - loss: 0.4943 - acc: 0.8264 - val_loss: 0.4833 - val_acc: 0.8329\n",
      "Epoch 21/40\n",
      "109s - loss: 0.4927 - acc: 0.8268 - val_loss: 0.4813 - val_acc: 0.8334\n",
      "Epoch 22/40\n",
      "109s - loss: 0.4915 - acc: 0.8274 - val_loss: 0.4885 - val_acc: 0.8305\n",
      "Epoch 23/40\n",
      "109s - loss: 0.4897 - acc: 0.8279 - val_loss: 0.4818 - val_acc: 0.8318\n",
      "Epoch 24/40\n",
      "109s - loss: 0.4887 - acc: 0.8284 - val_loss: 0.4789 - val_acc: 0.8337\n",
      "Epoch 25/40\n",
      "109s - loss: 0.4875 - acc: 0.8287 - val_loss: 0.4777 - val_acc: 0.8339\n",
      "Epoch 26/40\n",
      "109s - loss: 0.4865 - acc: 0.8292 - val_loss: 0.4790 - val_acc: 0.8332\n",
      "Epoch 27/40\n",
      "109s - loss: 0.4855 - acc: 0.8294 - val_loss: 0.4786 - val_acc: 0.8350\n",
      "Epoch 28/40\n",
      "109s - loss: 0.4845 - acc: 0.8299 - val_loss: 0.4756 - val_acc: 0.8354\n",
      "Epoch 29/40\n",
      "109s - loss: 0.4834 - acc: 0.8299 - val_loss: 0.4753 - val_acc: 0.8346\n",
      "Epoch 30/40\n",
      "109s - loss: 0.4833 - acc: 0.8301 - val_loss: 0.4734 - val_acc: 0.8359\n",
      "Epoch 31/40\n",
      "108s - loss: 0.4818 - acc: 0.8308 - val_loss: 0.4748 - val_acc: 0.8354\n",
      "Epoch 32/40\n",
      "108s - loss: 0.4819 - acc: 0.8307 - val_loss: 0.4730 - val_acc: 0.8366\n",
      "Epoch 33/40\n",
      "109s - loss: 0.4812 - acc: 0.8308 - val_loss: 0.4727 - val_acc: 0.8361\n",
      "Epoch 34/40\n",
      "109s - loss: 0.4803 - acc: 0.8311 - val_loss: 0.4805 - val_acc: 0.8339\n",
      "Epoch 35/40\n",
      "109s - loss: 0.4792 - acc: 0.8316 - val_loss: 0.4711 - val_acc: 0.8364\n",
      "Epoch 36/40\n",
      "109s - loss: 0.4785 - acc: 0.8315 - val_loss: 0.4692 - val_acc: 0.8368\n",
      "Epoch 37/40\n",
      "109s - loss: 0.4786 - acc: 0.8321 - val_loss: 0.4704 - val_acc: 0.8372\n",
      "Epoch 38/40\n",
      "108s - loss: 0.4781 - acc: 0.8322 - val_loss: 0.4762 - val_acc: 0.8350\n",
      "Epoch 39/40\n",
      "109s - loss: 0.4779 - acc: 0.8319 - val_loss: 0.4697 - val_acc: 0.8362\n",
      "Epoch 40/40\n",
      "109s - loss: 0.4777 - acc: 0.8320 - val_loss: 0.4687 - val_acc: 0.8365\n",
      "[0.50684031896378556, 0.82385885132691594]\n",
      "Error rate:0.17614114867308406\n",
      "dict_keys(['val_acc', 'val_loss', 'acc', 'loss'])\n"
     ]
    },
    {
     "data": {
      "image/png": "[encoded data removed]",
      "text/plain": [
       "<matplotlib.figure.Figure at 0x7f66a3e93d68>"
      ]
     },
     "metadata": {},
     "output_type": "display_data"
    },
    {
     "data": {
      "image/png": "[encoded data removed]",
      "text/plain": [
       "<matplotlib.figure.Figure at 0x7f66a4223908>"
      ]
     },
     "metadata": {},
     "output_type": "display_data"
    }
   ],
   "source": [
    "use_pretrained_model = False\n",
    "pretrained_model_name = \"\"\n",
    "context_frame_size = 19\n",
    "\n",
    "#run(3)\n",
    "run(19)"
   ]
  },
  {
   "cell_type": "code",
   "execution_count": 10,
   "metadata": {
    "collapsed": true,
    "deletable": true,
    "editable": true
   },
   "outputs": [],
   "source": [
    "#model.save('models/context_19_conv32_3_3_padding_pool2_2_2_conv64_3_3_padding_pool_2_2dropout_0.1_64dense_80.81.5acc.h5')"
   ]
  },
  {
   "cell_type": "code",
   "execution_count": null,
   "metadata": {
    "collapsed": true,
    "deletable": true,
    "editable": true
   },
   "outputs": [],
   "source": []
  }
 ],
 "metadata": {
  "kernelspec": {
   "display_name": "Python 3",
   "language": "python",
   "name": "python3"
  },
  "language_info": {
   "codemirror_mode": {
    "name": "ipython",
    "version": 3
   },
   "file_extension": ".py",
   "mimetype": "text/x-python",
   "name": "python",
   "nbconvert_exporter": "python",
   "pygments_lexer": "ipython3",
   "version": "3.5.1+"
  }
 },
 "nbformat": 4,
 "nbformat_minor": 2
}
