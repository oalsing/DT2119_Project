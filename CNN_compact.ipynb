{
 "cells": [
  {
   "cell_type": "code",
   "execution_count": 1,
   "metadata": {
    "collapsed": true,
    "deletable": true,
    "editable": true
   },
   "outputs": [],
   "source": [
    "%matplotlib inline"
   ]
  },
  {
   "cell_type": "code",
   "execution_count": 2,
   "metadata": {
    "collapsed": false,
    "deletable": true,
    "editable": true
   },
   "outputs": [
    {
     "name": "stderr",
     "output_type": "stream",
     "text": [
      "Using TensorFlow backend.\n"
     ]
    }
   ],
   "source": [
    "import sys\n",
    "import numpy as np\n",
    "import os\n",
    "import matplotlib.pyplot as plt\n",
    "\n",
    "\n",
    "from keras.utils import np_utils\n",
    "from keras.models import Sequential\n",
    "from keras.layers import Dense, Dropout, Activation, Conv2D, Convolution2D, MaxPooling2D, Flatten\n",
    "from keras.optimizers import RMSprop"
   ]
  },
  {
   "cell_type": "code",
   "execution_count": 3,
   "metadata": {
    "collapsed": true,
    "deletable": true,
    "editable": true
   },
   "outputs": [],
   "source": [
    "def run(context_frame_size):\n",
    "    train_data = np.load('workdir/train_tr_MFCC_0_D_A_norm_data_context_{}.npy'.format(str(context_frame_size)))\n",
    "    train_labels = np.load('workdir/train_tr_MFCC_0_D_A_norm_labels_context_{}.npy'.format(str(context_frame_size)))\n",
    "    val_data = np.load('workdir/train_va_MFCC_0_D_A_norm_data_context_{}.npy'.format(str(context_frame_size)))\n",
    "    val_labels = np.load('workdir/train_va_MFCC_0_D_A_norm_labels_context_{}.npy'.format(str(context_frame_size)))\n",
    "    test_data = np.load('workdir/test_MFCC_0_D_A_norm_data_context_{}.npy'.format(str(context_frame_size)))\n",
    "    test_labels = np.load('workdir/test_MFCC_0_D_A_norm_labels_context_{}.npy'.format(str(context_frame_size)))\n",
    "\n",
    "    print(\"Shape of training, validation and test data and corresponding labels\")\n",
    "    for data, labels in [(train_data, train_labels), (val_data, val_labels), (test_data, test_labels)]:\n",
    "        print(data.shape, labels.shape)\n",
    "        \n",
    "    print(train_data.shape)\n",
    "    X_train = np.transpose(train_data, (3, 0, 2, 1))\n",
    "    Y_train_num = train_labels\n",
    "    X_val = np.transpose(val_data, (3, 0, 2, 1))\n",
    "    Y_val_num = val_labels\n",
    "    X_test = np.transpose(test_data, (3, 0, 2, 1))\n",
    "    Y_test_num = test_labels\n",
    "\n",
    "    nb_classes = 64 #number of phonemes\n",
    "\n",
    "    Y_train = np_utils.to_categorical(Y_train_num, nb_classes)\n",
    "    Y_val = np_utils.to_categorical(Y_val_num, nb_classes)\n",
    "    Y_test = np_utils.to_categorical(Y_test_num, nb_classes)\n",
    "\n",
    "\n",
    "    print(\"Shape of re-ordered training, validation and test data and corresponding labels\")\n",
    "    for data, labels in [(X_train, Y_train), (X_val, Y_val), (X_test, Y_test)]:\n",
    "        print(data.shape, labels.shape)\n",
    "        \n",
    "    if not use_pretrained_model:\n",
    "        model = Sequential()\n",
    "        model.add(Convolution2D(32, (3, 3), padding='same',\n",
    "                                input_shape=(context_frame_size, 13, 3), activation='relu'))\n",
    "        #model.add(Convolution2D(32, (3, 3), activation='relu'))\n",
    "        model.add(MaxPooling2D(pool_size=(2, 2), padding='same'))\n",
    "        #model.add(Convolution2D(64, (3, 3), padding='same', activation='relu'))\n",
    "    #    model.add(Convolution2D(64, (3, 3), activation='relu'))\n",
    "        #model.add(MaxPooling2D(pool_size=(2, 2)))\n",
    "        #model.add(Dropout(0.1))\n",
    "        #model.add(Convolution2D(32, (3, 3), activation='relu'))\n",
    "        #model.add(MaxPooling2D(pool_size=(2, 2)))\n",
    "        #model.add(Dropout(0.1))\n",
    "\n",
    "        model.add(Flatten())\n",
    "        model.add(Dense(28))\n",
    "        #model.add(Activation('relu'))\n",
    "        model.add(Dense(nb_classes))\n",
    "        model.add(Activation('softmax'))\n",
    "\n",
    "        model.compile(loss='categorical_crossentropy', optimizer=RMSprop(lr=0.0001, rho=0.9, epsilon=1e-08, decay=0.0), metrics=['accuracy'])\n",
    "        history = model.fit(X_train, Y_train, batch_size=64, epochs=25, verbose=2, validation_data=(X_val, Y_val))\n",
    "        loss_and_metrics = model.evaluate(X_test, Y_test, verbose=0)\n",
    "        print(loss_and_metrics)\n",
    "        [print(\"Error rate:{}\".format(1-loss_and_metrics[1]))]\n",
    "\n",
    "    else:\n",
    "        from keras.models import load_model\n",
    "        model = load_model('pretrained_model_name')\n",
    "        \n",
    "    # list all data in history\n",
    "    print(history.history.keys())\n",
    "    # summarize history for accuracy\n",
    "    plt.plot(history.history['acc'])\n",
    "    plt.plot(history.history['val_acc'])\n",
    "    plt.title('Model Accuracy')\n",
    "    plt.ylabel('Accuracy')\n",
    "    plt.xlabel('Epoch')\n",
    "    plt.legend(['Training', 'Validation'], loc='upper left')\n",
    "    plt.show()\n",
    "    # summarize history for loss\n",
    "    plt.plot(history.history['loss'])\n",
    "    plt.plot(history.history['val_loss'])\n",
    "    plt.title('Model Loss')\n",
    "    plt.ylabel('Loss')\n",
    "    plt.xlabel('Epoch')\n",
    "    plt.legend(['Training', 'Validation'], loc='upper right')\n",
    "    plt.show()"
   ]
  },
  {
   "cell_type": "code",
   "execution_count": 4,
   "metadata": {
    "collapsed": false,
    "deletable": true,
    "editable": true
   },
   "outputs": [
    {
     "name": "stdout",
     "output_type": "stream",
     "text": [
      "Shape of training, validation and test data and corresponding labels\n",
      "(19, 3, 13, 1359661) (1359661,)\n",
      "(19, 3, 13, 147731) (147731,)\n",
      "(19, 3, 13, 1527014) (1527014,)\n",
      "(19, 3, 13, 1359661)\n",
      "Shape of re-ordered training, validation and test data and corresponding labels\n",
      "(1359661, 19, 13, 3) (1359661, 64)\n",
      "(147731, 19, 13, 3) (147731, 64)\n",
      "(1527014, 19, 13, 3) (1527014, 64)\n",
      "Train on 1359661 samples, validate on 147731 samples\n",
      "Epoch 1/25\n",
      "367s - loss: 0.9335 - acc: 0.7138 - val_loss: 0.6715 - val_acc: 0.7757\n",
      "Epoch 2/25\n",
      "99s - loss: 0.6180 - acc: 0.7918 - val_loss: 0.5911 - val_acc: 0.7979\n",
      "Epoch 3/25\n",
      "99s - loss: 0.5658 - acc: 0.8065 - val_loss: 0.5619 - val_acc: 0.8078\n",
      "Epoch 4/25\n",
      "98s - loss: 0.5380 - acc: 0.8145 - val_loss: 0.5557 - val_acc: 0.8072\n",
      "Epoch 5/25\n",
      "98s - loss: 0.5201 - acc: 0.8197 - val_loss: 0.5320 - val_acc: 0.8170\n",
      "Epoch 6/25\n",
      "98s - loss: 0.5069 - acc: 0.8238 - val_loss: 0.5233 - val_acc: 0.8185\n",
      "Epoch 7/25\n",
      "98s - loss: 0.4970 - acc: 0.8266 - val_loss: 0.5252 - val_acc: 0.8173\n",
      "Epoch 8/25\n",
      "98s - loss: 0.4892 - acc: 0.8289 - val_loss: 0.5185 - val_acc: 0.8205\n",
      "Epoch 9/25\n",
      "99s - loss: 0.4822 - acc: 0.8313 - val_loss: 0.5101 - val_acc: 0.8229\n",
      "Epoch 10/25\n",
      "98s - loss: 0.4768 - acc: 0.8327 - val_loss: 0.5021 - val_acc: 0.8258\n",
      "Epoch 11/25\n",
      "99s - loss: 0.4719 - acc: 0.8345 - val_loss: 0.5042 - val_acc: 0.8248\n",
      "Epoch 12/25\n",
      "99s - loss: 0.4680 - acc: 0.8356 - val_loss: 0.4956 - val_acc: 0.8269\n",
      "Epoch 13/25\n",
      "99s - loss: 0.4645 - acc: 0.8368 - val_loss: 0.4931 - val_acc: 0.8290\n",
      "Epoch 14/25\n",
      "98s - loss: 0.4612 - acc: 0.8375 - val_loss: 0.4953 - val_acc: 0.8280\n",
      "Epoch 15/25\n",
      "98s - loss: 0.4585 - acc: 0.8386 - val_loss: 0.4944 - val_acc: 0.8285\n",
      "Epoch 16/25\n",
      "99s - loss: 0.4560 - acc: 0.8396 - val_loss: 0.4920 - val_acc: 0.8288\n",
      "Epoch 17/25\n",
      "99s - loss: 0.4534 - acc: 0.8400 - val_loss: 0.4931 - val_acc: 0.8289\n",
      "Epoch 18/25\n",
      "98s - loss: 0.4511 - acc: 0.8409 - val_loss: 0.4866 - val_acc: 0.8308\n",
      "Epoch 19/25\n",
      "98s - loss: 0.4492 - acc: 0.8415 - val_loss: 0.4888 - val_acc: 0.8301\n",
      "Epoch 20/25\n",
      "98s - loss: 0.4476 - acc: 0.8418 - val_loss: 0.4850 - val_acc: 0.8317\n",
      "Epoch 21/25\n",
      "99s - loss: 0.4456 - acc: 0.8425 - val_loss: 0.4874 - val_acc: 0.8310\n",
      "Epoch 22/25\n",
      "99s - loss: 0.4441 - acc: 0.8428 - val_loss: 0.4848 - val_acc: 0.8323\n",
      "Epoch 23/25\n",
      "99s - loss: 0.4427 - acc: 0.8433 - val_loss: 0.4857 - val_acc: 0.8317\n",
      "Epoch 24/25\n",
      "99s - loss: 0.4413 - acc: 0.8440 - val_loss: 0.4833 - val_acc: 0.8324\n",
      "Epoch 25/25\n",
      "98s - loss: 0.4399 - acc: 0.8446 - val_loss: 0.4840 - val_acc: 0.8320\n",
      "[0.52563248182642597, 0.81910709397558223]\n",
      "Error rate:0.18089290602441777\n",
      "dict_keys(['val_acc', 'loss', 'val_loss', 'acc'])\n"
     ]
    },
    {
     "data": {
      "image/png": "[encoded data removed]",
      "text/plain": [
       "<matplotlib.figure.Figure at 0x7ef7a9f4ce80>"
      ]
     },
     "metadata": {},
     "output_type": "display_data"
    },
    {
     "data": {
      "image/png": "[encoded data removed]",
      "text/plain": [
       "<matplotlib.figure.Figure at 0x7ef77aed3da0>"
      ]
     },
     "metadata": {},
     "output_type": "display_data"
    }
   ],
   "source": [
    "use_pretrained_model = False\n",
    "pretrained_model_name = \"\"\n",
    "context_frame_size = 19\n",
    "\n",
    "run(19)"
   ]
  },
  {
   "cell_type": "code",
   "execution_count": 5,
   "metadata": {
    "collapsed": true,
    "deletable": true,
    "editable": true
   },
   "outputs": [],
   "source": [
    "#model.save('models/context_19_conv32_3_3_padding_pool2_2_2_conv64_3_3_padding_pool_2_2dropout_0.1_64dense_80.81.5acc.h5')"
   ]
  },
  {
   "cell_type": "code",
   "execution_count": null,
   "metadata": {
    "collapsed": true,
    "deletable": true,
    "editable": true
   },
   "outputs": [],
   "source": []
  }
 ],
 "metadata": {
  "kernelspec": {
   "display_name": "Python 3",
   "language": "python",
   "name": "python3"
  },
  "language_info": {
   "codemirror_mode": {
    "name": "ipython",
    "version": 3
   },
   "file_extension": ".py",
   "mimetype": "text/x-python",
   "name": "python",
   "nbconvert_exporter": "python",
   "pygments_lexer": "ipython3",
   "version": "3.5.1+"
  }
 },
 "nbformat": 4,
 "nbformat_minor": 2
}
